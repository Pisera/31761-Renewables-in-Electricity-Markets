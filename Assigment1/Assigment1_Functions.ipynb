{
 "cells": [
  {
   "cell_type": "markdown",
   "id": "8aa48225",
   "metadata": {},
   "source": [
    "# Functions"
   ]
  },
  {
   "cell_type": "code",
   "execution_count": 1,
   "id": "4c589d01",
   "metadata": {},
   "outputs": [
    {
     "data": {
      "text/plain": [
       "getelmzone (generic function with 1 method)"
      ]
     },
     "execution_count": 1,
     "metadata": {},
     "output_type": "execute_result"
    }
   ],
   "source": [
    "function swaprow!(x,i,j)\n",
    "         for k in axes(x,2)\n",
    "           idata = x[i,k]\n",
    "           x[i,k] = x[j,k]\n",
    "           x[j,k] = idata\n",
    "         end\n",
    "       end\n",
    "\n",
    "function getbuscxn(Transmission_lines,N_n)\n",
    "  X = Transmission_lines[1:2,:]\n",
    "    swaprow!(X,1,2)\n",
    "    Ωₙ = Vector{Vector{Int8}}()\n",
    "    Ω_idx =  Vector{Vector{Int8}}()\n",
    "        for i in 1:N_n\n",
    "                x = Transmission_lines[1:2,:]\n",
    "                a = findall(x -> x==i, x)\n",
    "                b = getindex.(a, 2)\n",
    "                push!(Ωₙ,X[a])\n",
    "                push!(Ω_idx,b)\n",
    "        end\n",
    "        return Ωₙ, Ω_idx\n",
    "end\n",
    "\n",
    "function getelmcxt(Demands, Conventional_generators, Wind_farms, N_n)\n",
    "\n",
    "    d = Vector{Vector{Int8}}()\n",
    "    y1 = copy(Demands[1,:])\n",
    "            for i in 1:N_n\n",
    "                a = findall(y1 -> y1==i, y1)\n",
    "                push!(d,a)\n",
    "            end\n",
    "\n",
    "    g = Vector{Vector{Int8}}()\n",
    "    y2 = copy(Conventional_generators[1,:])\n",
    "            for i in 1:N_n\n",
    "                a = findall(y2 -> y2==i, y2)\n",
    "                push!(g,a)\n",
    "            end\n",
    "\n",
    "    w = Vector{Vector{Int8}}()\n",
    "    y = copy(Wind_farms[1,:])\n",
    "            for i in 1:N_n\n",
    "                a = findall(y -> y==i, y)\n",
    "                push!(w,a)\n",
    "            end\n",
    "\n",
    "return d,g,w\n",
    "end\n",
    "\n",
    "function getelmzone(Demands, Conventional_generators, Wind_farms, N_n)\n",
    "\n",
    "  (d,g,w) = getelmcxt(Demands, Conventional_generators, Wind_farms, N_n)\n",
    "    \n",
    "    zone_A =[1,2,3,4,5,6,7,8,9,10,11,12,13]\n",
    "    zone_B =[14,15,16,17,18,19,20,21,22,23,24]\n",
    "\n",
    "    d1 = copy.(d)\n",
    "    a = []\n",
    "    for i in zone_A\n",
    "        a = vcat(a,d1[i])\n",
    "    end\n",
    "    d2 = copy.(d)\n",
    "    b = []\n",
    "    for i in zone_B\n",
    "        b = vcat(b,d2[i])\n",
    "    end\n",
    "    d_z =[[a];[b]]\n",
    "    \n",
    "    g1 = copy.(g)\n",
    "    a = []\n",
    "    for i in zone_A\n",
    "        a = vcat(a,g1[i])\n",
    "    end\n",
    "    g2 = copy.(g)\n",
    "    b = []\n",
    "    for i in zone_B\n",
    "        b = vcat(b,g2[i])\n",
    "    end\n",
    "    g_z =[[a];[b]]\n",
    "    \n",
    "    w1 = copy.(w)\n",
    "    a = []\n",
    "    for i in zone_A\n",
    "        a = vcat(a,w1[i])\n",
    "    end\n",
    "    w2 = copy.(w)\n",
    "    b = []\n",
    "    for i in zone_B\n",
    "        b = vcat(b,w2[i])\n",
    "    end\n",
    "    w_z =[[a];[b]]\n",
    "    \n",
    "return d_z, g_z, w_z\n",
    "end"
   ]
  },
  {
   "cell_type": "code",
   "execution_count": null,
   "id": "710e96c1",
   "metadata": {},
   "outputs": [],
   "source": []
  }
 ],
 "metadata": {
  "kernelspec": {
   "display_name": "Julia 1.7.0",
   "language": "julia",
   "name": "julia-1.7"
  },
  "language_info": {
   "file_extension": ".jl",
   "mimetype": "application/julia",
   "name": "julia",
   "version": "1.7.0"
  }
 },
 "nbformat": 4,
 "nbformat_minor": 5
}
