{
 "cells": [
  {
   "cell_type": "markdown",
   "id": "9a8dbeab",
   "metadata": {},
   "source": [
    "# Assigment 1 Step 4\n",
    "\n",
    "**Framework:**\n",
    "* Please discard the network (cupper‐plate system). There is no intra‐day market. Demands in the day‐ahead market are inelastic to price.\n",
    "* Offer prices in the balancing stage are the same as those in Step 3. The only reserve and therefore balancing service providers are 12 conventional generators. The load curtailment cost is $500/MWh.\n",
    "* According to the TSO’ quantification, the upward reserve requirement in the reserve market is 200 MW and the downward reserve requirement is 120 MW.\n",
    "* In the real‐time operation, the actual wind power production of farms 1, 2 and 3 are 40% lower than their day‐ahead forecast, while that of farm 4 is 50% higher than her day‐ahead forecast.\n",
    "\n",
    "**Procedure:**\n",
    "1. Following European electricity markets, please clear the sequential reserve, day ahead energy and balancing markets.\n",
    "2. Under both 1‐ and 2‐price balancing schemes, please calculate the total revenue of each conventional generator and farm."
   ]
  },
  {
   "cell_type": "code",
   "execution_count": null,
   "id": "0f7b4ec5",
   "metadata": {},
   "outputs": [],
   "source": [
    "# Import Data\n",
    "## Conventional Generators data\n",
    "Conventional_generators = [\n",
    "        1 2 7 13 15 15 16 18 21 22 23 23;\n",
    "        13.32 13.32 20.7 20.93 26.11 10.52 10.52 6.02 5.47 7 10.52 10.89;\n",
    "        1.68 1.68 3.30 4.07 1.89 5.48 5.48 4.98 5.53 8.00 3.45 5.11;\n",
    "        2.32 2.32 4.67 3.93 3.11 3.52 3.52 5.02 4.97 6.00 2.52 2.89;\n",
    "        106.4 106.4 245 413.7 42 108.5 108.5 280 280 210 217 245;\n",
    "        48 48 84 216 42 36 36 60 60 48 72 48;\n",
    "        48 48 84 216 42 36 36 60 60 48 72 48;\n",
    "    ]\n",
    "\n",
    "##  Wind Farms data\n",
    "Wind_farms = [\n",
    "    3 5 16 21;\n",
    "    500 500 300 300;\n",
    "    120.54 115.52 53.34 38.16;\n",
    "]\n",
    "\n",
    "## Demands data\n",
    "Demands = [\n",
    "    1   2   3   4   5   6 7 8 9 10 13 14 15 16 18 19 20;\n",
    "    84  75  139 58  55  106 97  132 135 150 205 150 245 77  258 141 100;\n",
    "    500 500 500 500 500 500 500 500 500 500 500 500 500 500 500 500 500;\n",
    "    ]\n",
    "\n",
    "## Transmission_lines Data\n",
    "Transmission_fir = [\n",
    "    1 1 1 2 2 3 3 4 5 6 7 8 8 9 9 10 10;\n",
    "    2 3 5 4 6 9 24 9 10 10 8 9 10 11 12 11 12;\n",
    "    0.0146 0.2253 0.0907 0.1356 0.205 0.1271 0.084 0.111 0.094 0.0642 0.0652 0.1762 0.1762 0.084 0.084 0.084 0.084;\n",
    "    175 175 350 175 175 175 400 175 350 175 350 175 175 400 400 400 400;\n",
    "]\n",
    "Transmission_sec =[\n",
    "    11 11 12 12 13 14 15 15 15 16 16 17 17 18 19 20 21;\n",
    "    13 14 13 23 23 16 16 21 24 17 19 18 22 21 20 23 22;\n",
    "    0.0488 0.0426 0.0488 0.0985 0.0884 0.0594 0.0172 0.0249 0.0529 0.0263 0.0234 0.0143 0.1069 0.0132 0.0203 0.0112 0.0692;\n",
    "    500 500 500 500 250 250 500 400 500 500 500 500 500 1000 1000 1000 500;\n",
    "]\n",
    "Transmission_lines = hcat(Transmission_fir, Transmission_sec)\n",
    "\n",
    "# Get number of elements connected to the grid from Data\n",
    "\n",
    "N_G = Int64.(size(Conventional_generators,2))       # number of Conventional_generators\n",
    "N_W = Int64.(size(Wind_farms,2))                    # number of Wind_farms\n",
    "N_D = Int64.(size(Demands,2))                               # number of Demands\n",
    "N_l = Int64.(size(Transmission_lines,2) )                   # number of Transmission_lines\n",
    "N_n = Int64.(findmax(Transmission_lines[1:2,:])[1]) # number of nodes\n",
    "N_a = 2                                             # number of zones\n",
    "\n",
    "## Get information from Input \n",
    "\n",
    "# conventional generators\n",
    "cg_location = Int64.(Conventional_generators[1,:])          # Node location of conventional generators [Node]\n",
    "cg_production_cost = Conventional_generators[2,:]       # Production cost of conventional generators [$/MWh]\n",
    "cg_upward_reserve_cost = Conventional_generators[3,:]   # Upward reserve cost of conventional generators [$/MWh]\n",
    "cg_downward_reserve_cost = Conventional_generators[4,:] # Downward reserve cost of conventional generators [$/MWh]\n",
    "cg_capacity = Conventional_generators[5,:]              # [MW]\n",
    "cg_max_upward_reserve_provision_capability = Conventional_generators[6,:]   # [MW]\n",
    "cg_max_downward_reserve_provision_capability = Conventional_generators[7,:] # [MW]\n",
    "\n",
    "# wind farm\n",
    "wf_location = Int64.(Wind_farms[1,:])       # [Node]\n",
    "wf_installed_capacity = Wind_farms[2,:] # [MW]\n",
    "wf_day_ahead_forecast = Wind_farms[3,:] # [MWh]\n",
    "\n",
    "# demands\n",
    "d_location = Int64.(Demands[1,:])    # [Node]\n",
    "d_consumption = Demands[2,:]         # [MWh]\n",
    "d_curtaliment_cost = Demands[3,:]    # [$/MWh]\n",
    "\n",
    "# transmission lines\n",
    "tl_from_node = Transmission_lines[1,:]\n",
    "tl_to_node = Transmission_lines[2,:]\n",
    "tl_impedance = Transmission_lines[3,:]\n",
    "tl_capacity = Transmission_lines[4,:]\n",
    "tl_susceptance = 1 ./ Transmission_lines[3,:];"
   ]
  },
  {
   "cell_type": "markdown",
   "id": "6de3d95f",
   "metadata": {},
   "source": [
    "## 1. Reserve, day ahead energy and balancing markets sequence clearing."
   ]
  },
  {
   "cell_type": "code",
   "execution_count": null,
   "id": "d5b25d48",
   "metadata": {},
   "outputs": [],
   "source": []
  },
  {
   "cell_type": "markdown",
   "id": "468a49b3",
   "metadata": {},
   "source": [
    "## 2. Calculate the total revenue "
   ]
  },
  {
   "cell_type": "code",
   "execution_count": null,
   "id": "c1733bcf",
   "metadata": {},
   "outputs": [],
   "source": []
  }
 ],
 "metadata": {
  "kernelspec": {
   "display_name": "Julia 1.7.0",
   "language": "julia",
   "name": "julia-1.7"
  },
  "language_info": {
   "file_extension": ".jl",
   "mimetype": "application/julia",
   "name": "julia",
   "version": "1.7.0"
  }
 },
 "nbformat": 4,
 "nbformat_minor": 5
}
