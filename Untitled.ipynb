{
 "cells": [
  {
   "cell_type": "code",
   "execution_count": null,
   "id": "37e49c03",
   "metadata": {},
   "outputs": [],
   "source": [
    "## esempio di Expression \n",
    "\n",
    "model = Model()\n",
    "@variable(model, x[i = 1:3])\n",
    "@expression(model, expr[i = 1:3], i * sum(x[j] for j in i:3))\n",
    "expr\n",
    "\n",
    "# output\n",
    "\n",
    "3-element Vector{AffExpr}:\n",
    " x[1] + x[2] + x[3]\n",
    " 2 x[2] + 2 x[3]\n",
    " 3 x[3]"
   ]
  },
  {
   "cell_type": "code",
   "execution_count": 23,
   "id": "e9c836fc",
   "metadata": {},
   "outputs": [
    {
     "data": {
      "text/plain": [
       "2-element Vector{Vector{Float64}}:\n",
       " [1.0, 1.0, 1.0, 1.0, 1.0, 1.0, 1.0, 1.0, 1.0, 1.0]\n",
       " [1.0, 2.0, 3.0]"
      ]
     },
     "execution_count": 23,
     "metadata": {},
     "output_type": "execute_result"
    }
   ],
   "source": [
    "C = [[A];[B]]"
   ]
  },
  {
   "cell_type": "code",
   "execution_count": 28,
   "id": "68089b3e",
   "metadata": {},
   "outputs": [
    {
     "data": {
      "text/plain": [
       "3-element Vector{Float64}:\n",
       " 1.0\n",
       " 2.0\n",
       " 3.0"
      ]
     },
     "execution_count": 28,
     "metadata": {},
     "output_type": "execute_result"
    }
   ],
   "source": [
    "C[2] "
   ]
  },
  {
   "cell_type": "code",
   "execution_count": 34,
   "id": "3b0ddce0",
   "metadata": {},
   "outputs": [
    {
     "data": {
      "text/plain": [
       "24"
      ]
     },
     "execution_count": 34,
     "metadata": {},
     "output_type": "execute_result"
    }
   ],
   "source": [
    "N_n = 24\n",
    "Transmission_fir = [\n",
    "    1 1 1 2 2 3 3 4 5 6 7 8 8 9 9 10 10;\n",
    "    2 3 5 4 6 9 24 9 10 10 8 9 10 11 12 11 12;\n",
    "    0.0146 0.2253 0.0907 0.1356 0.205 0.1271 0.084 0.111 0.094 0.0642 0.0652 0.1762 0.1762 0.084 0.084 0.084 0.084;\n",
    "    175 175 350 175 175 175 400 175 350 175 350 175 175 400 400 400 400;\n",
    "]\n",
    "Transmission_sec =[\n",
    "    11 11 12 12 13 14 15 15 15 16 16 17 17 18 19 20 21;\n",
    "    13 14 13 23 23 16 16 21 24 17 19 18 22 21 20 23 22;\n",
    "    0.0488 0.0426 0.0488 0.0985 0.0884 0.0594 0.0172 0.0249 0.0529 0.0263 0.0234 0.0143 0.1069 0.0132 0.0203 0.0112 0.0692;\n",
    "    500 500 500 500 250 250 500 400 500 500 500 500 500 1000 1000 1000 500;\n",
    "]\n",
    "Transmission_lines = hcat(Transmission_fir, Transmission_sec) \n",
    "N_n = 24 "
   ]
  },
  {
   "cell_type": "code",
   "execution_count": 111,
   "id": "f7fcd6ea",
   "metadata": {},
   "outputs": [
    {
     "data": {
      "text/plain": [
       "swaprow! (generic function with 1 method)"
      ]
     },
     "execution_count": 111,
     "metadata": {},
     "output_type": "execute_result"
    }
   ],
   "source": [
    "function swaprow!(x,i,j)\n",
    "         for k in axes(x,2) \n",
    "           idata = x[i,k]\n",
    "           x[i,k] = x[j,k]\n",
    "           x[j,k] = idata\n",
    "         end\n",
    "       end"
   ]
  },
  {
   "cell_type": "code",
   "execution_count": 104,
   "id": "a964ae2c",
   "metadata": {},
   "outputs": [],
   "source": [
    "X = Transmission_lines[1:2,:]  \n",
    "swaprow!(X,1,2)"
   ]
  },
  {
   "cell_type": "code",
   "execution_count": 107,
   "id": "0f4bb49b",
   "metadata": {},
   "outputs": [],
   "source": [
    "Ωₙ = Vector{Vector{Float64}}() \n",
    "for i in 1:N_n\n",
    "    x = Transmission_lines[1:2,:]  \n",
    "    a = findall(x -> x==i, x)\n",
    "    push!(Ωₙ,X[a])\n",
    "end"
   ]
  },
  {
   "cell_type": "code",
   "execution_count": 98,
   "id": "a120c7ce",
   "metadata": {},
   "outputs": [
    {
     "data": {
      "text/plain": [
       "3-element Vector{CartesianIndex{2}}:\n",
       " CartesianIndex(1, 1)\n",
       " CartesianIndex(1, 2)\n",
       " CartesianIndex(1, 3)"
      ]
     },
     "execution_count": 98,
     "metadata": {},
     "output_type": "execute_result"
    }
   ],
   "source": [
    "x = Transmission_lines[1:2,:]  \n",
    "a = findall(x -> x==1, x)"
   ]
  },
  {
   "cell_type": "code",
   "execution_count": 106,
   "id": "db601fcf",
   "metadata": {
    "scrolled": true
   },
   "outputs": [
    {
     "data": {
      "text/plain": [
       "3-element Vector{Float64}:\n",
       " 2.0\n",
       " 3.0\n",
       " 5.0"
      ]
     },
     "execution_count": 106,
     "metadata": {},
     "output_type": "execute_result"
    }
   ],
   "source": [
    "X[a]"
   ]
  },
  {
   "cell_type": "code",
   "execution_count": 108,
   "id": "4b35e680",
   "metadata": {},
   "outputs": [
    {
     "data": {
      "text/plain": [
       "24-element Vector{Vector{Float64}}:\n",
       " [2.0, 3.0, 5.0]\n",
       " [1.0, 4.0, 6.0]\n",
       " [1.0, 9.0, 24.0]\n",
       " [2.0, 9.0]\n",
       " [1.0, 10.0]\n",
       " [2.0, 10.0]\n",
       " [8.0]\n",
       " [7.0, 9.0, 10.0]\n",
       " [3.0, 4.0, 8.0, 11.0, 12.0]\n",
       " [5.0, 6.0, 8.0, 11.0, 12.0]\n",
       " [9.0, 10.0, 13.0, 14.0]\n",
       " [9.0, 10.0, 13.0, 23.0]\n",
       " [11.0, 12.0, 23.0]\n",
       " [11.0, 16.0]\n",
       " [16.0, 21.0, 24.0]\n",
       " [14.0, 15.0, 17.0, 19.0]\n",
       " [16.0, 18.0, 22.0]\n",
       " [17.0, 21.0]\n",
       " [16.0, 20.0]\n",
       " [19.0, 23.0]\n",
       " [15.0, 18.0, 22.0]\n",
       " [17.0, 21.0]\n",
       " [12.0, 13.0, 20.0]\n",
       " [3.0, 15.0]"
      ]
     },
     "execution_count": 108,
     "metadata": {},
     "output_type": "execute_result"
    }
   ],
   "source": [
    "Ωₙ"
   ]
  },
  {
   "cell_type": "code",
   "execution_count": 116,
   "id": "21eda3dc",
   "metadata": {},
   "outputs": [
    {
     "data": {
      "text/plain": [
       "getbuscxn (generic function with 1 method)"
      ]
     },
     "execution_count": 116,
     "metadata": {},
     "output_type": "execute_result"
    }
   ],
   "source": [
    "function getbuscxn(Transmission_lines,N_n)\n",
    "    X = Transmission_lines[1:2,:]  \n",
    "    swaprow!(X,1,2)\n",
    "    Ωₙ = Vector{Vector{Float64}}() \n",
    "        for i in 1:N_n\n",
    "            x = Transmission_lines[1:2,:]  \n",
    "            a = findall(x -> x==i, x)\n",
    "            push!(Ωₙ,X[a])\n",
    "        end\n",
    "    return Ωₙ\n",
    "end"
   ]
  },
  {
   "cell_type": "code",
   "execution_count": 117,
   "id": "b067e7a5",
   "metadata": {},
   "outputs": [
    {
     "data": {
      "text/plain": [
       "24-element Vector{Vector{Float64}}:\n",
       " [2.0, 3.0, 5.0]\n",
       " [1.0, 4.0, 6.0]\n",
       " [1.0, 9.0, 24.0]\n",
       " [2.0, 9.0]\n",
       " [1.0, 10.0]\n",
       " [2.0, 10.0]\n",
       " [8.0]\n",
       " [7.0, 9.0, 10.0]\n",
       " [3.0, 4.0, 8.0, 11.0, 12.0]\n",
       " [5.0, 6.0, 8.0, 11.0, 12.0]\n",
       " [9.0, 10.0, 13.0, 14.0]\n",
       " [9.0, 10.0, 13.0, 23.0]\n",
       " [11.0, 12.0, 23.0]\n",
       " [11.0, 16.0]\n",
       " [16.0, 21.0, 24.0]\n",
       " [14.0, 15.0, 17.0, 19.0]\n",
       " [16.0, 18.0, 22.0]\n",
       " [17.0, 21.0]\n",
       " [16.0, 20.0]\n",
       " [19.0, 23.0]\n",
       " [15.0, 18.0, 22.0]\n",
       " [17.0, 21.0]\n",
       " [12.0, 13.0, 20.0]\n",
       " [3.0, 15.0]"
      ]
     },
     "execution_count": 117,
     "metadata": {},
     "output_type": "execute_result"
    }
   ],
   "source": [
    "getbuscxn(Transmission_lines,N_n)"
   ]
  },
  {
   "cell_type": "code",
   "execution_count": 1,
   "id": "966ffd11",
   "metadata": {},
   "outputs": [],
   "source": [
    "struct LocatedAtBus\n",
    "    demands::Vector{Vector{Float64}}\n",
    "    generators::Vector{Vector{Float64}}\n",
    "    wind::Vector{Vector{Float64}}\n",
    "end\n"
   ]
  },
  {
   "cell_type": "code",
   "execution_count": 123,
   "id": "778a619c",
   "metadata": {},
   "outputs": [
    {
     "data": {
      "text/plain": [
       "(:demands, :generators, :wind)"
      ]
     },
     "execution_count": 123,
     "metadata": {},
     "output_type": "execute_result"
    }
   ],
   "source": [
    "fieldnames(LocatedAtBus)"
   ]
  },
  {
   "cell_type": "code",
   "execution_count": 2,
   "id": "90a1bc57",
   "metadata": {},
   "outputs": [
    {
     "data": {
      "text/plain": [
       "3-element Vector{Vector{Int64}}:\n",
       " [5, 77, 3]\n",
       " [5, 8, 1]\n",
       " [17, 95, 0]"
      ]
     },
     "execution_count": 2,
     "metadata": {},
     "output_type": "execute_result"
    }
   ],
   "source": [
    "y = [[1,2,3],[5,6,7],[63,56,77]]\n",
    "z = [[1,5,73],[95,68,17],[1,5,0]]\n",
    "f = [[5,77,3],[5,8,1],[17,95,0]]"
   ]
  },
  {
   "cell_type": "code",
   "execution_count": 4,
   "id": "bfae34e3",
   "metadata": {},
   "outputs": [
    {
     "data": {
      "text/plain": [
       "LocatedAtBus([[1.0, 2.0, 3.0], [5.0, 6.0, 7.0], [63.0, 56.0, 77.0]], [[1.0, 5.0, 73.0], [95.0, 68.0, 17.0], [1.0, 5.0, 0.0]], [[5.0, 77.0, 3.0], [5.0, 8.0, 1.0], [17.0, 95.0, 0.0]])"
      ]
     },
     "execution_count": 4,
     "metadata": {},
     "output_type": "execute_result"
    }
   ],
   "source": [
    "Ψₙ = LocatedAtBus(y,z,f)"
   ]
  },
  {
   "cell_type": "code",
   "execution_count": 5,
   "id": "465a29b7",
   "metadata": {},
   "outputs": [
    {
     "data": {
      "text/plain": [
       "3-element Vector{Vector{Float64}}:\n",
       " [1.0, 2.0, 3.0]\n",
       " [5.0, 6.0, 7.0]\n",
       " [63.0, 56.0, 77.0]"
      ]
     },
     "execution_count": 5,
     "metadata": {},
     "output_type": "execute_result"
    }
   ],
   "source": [
    "Ψₙ.demands"
   ]
  },
  {
   "cell_type": "code",
   "execution_count": 22,
   "id": "8a3675b4",
   "metadata": {},
   "outputs": [
    {
     "data": {
      "text/plain": [
       "9×1 adjoint(::Matrix{Int64}) with eltype Int64:\n",
       " 1\n",
       " 2\n",
       " 3\n",
       " 4\n",
       " 5\n",
       " 5\n",
       " 5\n",
       " 9\n",
       " 8"
      ]
     },
     "execution_count": 22,
     "metadata": {},
     "output_type": "execute_result"
    }
   ],
   "source": [
    "w = [1 2 3 4 5 5 5 9 8]'"
   ]
  },
  {
   "cell_type": "code",
   "execution_count": 23,
   "id": "b6727133",
   "metadata": {},
   "outputs": [
    {
     "data": {
      "text/plain": [
       "CartesianIndex{2}[]"
      ]
     },
     "execution_count": 23,
     "metadata": {},
     "output_type": "execute_result"
    }
   ],
   "source": [
    "findall(w -> w == 19,w)"
   ]
  },
  {
   "cell_type": "code",
   "execution_count": 25,
   "id": "16b56f57",
   "metadata": {},
   "outputs": [
    {
     "data": {
      "text/plain": [
       "17"
      ]
     },
     "execution_count": 25,
     "metadata": {},
     "output_type": "execute_result"
    }
   ],
   "source": [
    "Demands = [\n",
    "    1 2 3 4 5 6 7 8 9 10 13 14 15 16 18 19 20;\n",
    "    84 75 139 58 55 106 97 132 135 150 205 150 245 77 258 141 100;\n",
    "    500 500 500 500 500 500 500 500 500 500 500 500 500 500 500 500 500;\n",
    "    ] \n",
    "N_d = size(Demands,2)"
   ]
  },
  {
   "cell_type": "code",
   "execution_count": 31,
   "id": "4c5e9258",
   "metadata": {},
   "outputs": [
    {
     "data": {
      "text/plain": [
       "18-element Vector{Int64}:\n",
       "  1\n",
       "  2\n",
       "  3\n",
       "  4\n",
       "  5\n",
       "  6\n",
       "  7\n",
       "  8\n",
       "  9\n",
       " 10\n",
       " 13\n",
       " 14\n",
       " 15\n",
       " 16\n",
       " 18\n",
       " 19\n",
       " 20\n",
       "  1"
      ]
     },
     "execution_count": 31,
     "metadata": {},
     "output_type": "execute_result"
    }
   ],
   "source": [
    "y = copy(Demands[1,:])\n",
    "push!(y,1)"
   ]
  },
  {
   "cell_type": "code",
   "execution_count": 32,
   "id": "1f6aab63",
   "metadata": {
    "scrolled": true
   },
   "outputs": [
    {
     "data": {
      "text/plain": [
       "2-element Vector{Int64}:\n",
       "  1\n",
       " 18"
      ]
     },
     "execution_count": 32,
     "metadata": {},
     "output_type": "execute_result"
    }
   ],
   "source": [
    "l = findall(y -> y == 1, y)"
   ]
  },
  {
   "cell_type": "code",
   "execution_count": 28,
   "id": "1dfb8f47",
   "metadata": {},
   "outputs": [
    {
     "ename": "LoadError",
     "evalue": "type #getindex has no field l",
     "output_type": "error",
     "traceback": [
      "type #getindex has no field l",
      "",
      "Stacktrace:",
      " [1] getproperty(x::Function, f::Symbol)",
      "   @ Base ./Base.jl:42",
      " [2] top-level scope",
      "   @ In[28]:1",
      " [3] eval",
      "   @ ./boot.jl:373 [inlined]",
      " [4] include_string(mapexpr::typeof(REPL.softscope), mod::Module, code::String, filename::String)",
      "   @ Base ./loading.jl:1196"
     ]
    }
   ],
   "source": [
    "getindex.l"
   ]
  },
  {
   "cell_type": "code",
   "execution_count": 35,
   "id": "a54b3542",
   "metadata": {
    "scrolled": true
   },
   "outputs": [
    {
     "data": {
      "text/plain": [
       "24-element Vector{Vector{Float64}}:\n",
       " [1.0]\n",
       " [2.0]\n",
       " [3.0]\n",
       " [4.0]\n",
       " [5.0]\n",
       " [6.0]\n",
       " [7.0]\n",
       " [8.0]\n",
       " [9.0]\n",
       " [10.0]\n",
       " []\n",
       " []\n",
       " [11.0]\n",
       " [12.0]\n",
       " [13.0]\n",
       " [14.0]\n",
       " []\n",
       " [15.0]\n",
       " [16.0]\n",
       " [17.0]\n",
       " []\n",
       " []\n",
       " []\n",
       " []"
      ]
     },
     "execution_count": 35,
     "metadata": {},
     "output_type": "execute_result"
    }
   ],
   "source": [
    "struct LocatedAtBus\n",
    "    demands::Vector{Vector{Float64}}\n",
    "    generators::Vector{Vector{Float64}}\n",
    "    wind::Vector{Vector{Float64}}\n",
    "end\n",
    "\n"
   ]
  },
  {
   "cell_type": "code",
   "execution_count": 2,
   "id": "32a82b50",
   "metadata": {},
   "outputs": [
    {
     "data": {
      "text/plain": [
       "24"
      ]
     },
     "execution_count": 2,
     "metadata": {},
     "output_type": "execute_result"
    }
   ],
   "source": [
    "Conventional_generators = [\n",
    "        1 2 7 13 15 15 16 18 21 22 23 23;\n",
    "        13.32 13.32 20.7 20.93 26.11 10.52 10.52 6.02 5.47 7 10.52 10.89;\n",
    "        1.68 1.68 3.30 4.07 1.89 5.48 5.48 4.98 5.53 8.00 3.45 5.11;\n",
    "        2.32 2.32 4.67 3.93 3.11 3.52 3.52 5.02 4.97 6.00 2.52 2.89;\n",
    "        106.4 106.4 245 413.7 42 108.5 108.5 280 280 210 217 245;\n",
    "        48 48 84 216 42 36 36 60 60 48 72 48;\n",
    "        48 48 84 216 42 36 36 60 60 48 72 48;\n",
    "    ]\n",
    "N_n = 24"
   ]
  },
  {
   "cell_type": "code",
   "execution_count": 3,
   "id": "a6f30ebf",
   "metadata": {},
   "outputs": [
    {
     "data": {
      "text/plain": [
       "24-element Vector{Vector{Int8}}:\n",
       " [1]\n",
       " [2]\n",
       " []\n",
       " []\n",
       " []\n",
       " []\n",
       " [3]\n",
       " []\n",
       " []\n",
       " []\n",
       " []\n",
       " []\n",
       " [4]\n",
       " []\n",
       " [5, 6]\n",
       " [7]\n",
       " []\n",
       " [8]\n",
       " []\n",
       " []\n",
       " [9]\n",
       " [10]\n",
       " [11, 12]\n",
       " []"
      ]
     },
     "execution_count": 3,
     "metadata": {},
     "output_type": "execute_result"
    }
   ],
   "source": [
    "g = Vector{Vector{Int8}}() \n",
    "y = copy(Conventional_generators[1,:])\n",
    "        for i in 1:N_n  \n",
    "            a = findall(y -> y==i, y)\n",
    "            push!(g,a)\n",
    "        end\n",
    "    return g"
   ]
  },
  {
   "cell_type": "code",
   "execution_count": null,
   "id": "de7d073a",
   "metadata": {},
   "outputs": [],
   "source": []
  },
  {
   "cell_type": "code",
   "execution_count": null,
   "id": "7dbccd7f",
   "metadata": {},
   "outputs": [],
   "source": []
  },
  {
   "cell_type": "code",
   "execution_count": 38,
   "id": "a1588424",
   "metadata": {},
   "outputs": [
    {
     "data": {
      "text/plain": [
       "3×4 Matrix{Float64}:\n",
       "   3.0     5.0    16.0    21.0\n",
       " 500.0   500.0   300.0   300.0\n",
       " 120.54  115.52   53.34   38.16"
      ]
     },
     "execution_count": 38,
     "metadata": {},
     "output_type": "execute_result"
    }
   ],
   "source": [
    "Wind_farms = [\n",
    "    3 5 16 21;\n",
    "    500 500 300 300;\n",
    "    120.54 115.52 53.34 38.16;\n",
    "]"
   ]
  },
  {
   "cell_type": "code",
   "execution_count": 40,
   "id": "b775e935",
   "metadata": {},
   "outputs": [
    {
     "data": {
      "text/plain": [
       "24-element Vector{Vector{Float64}}:\n",
       " []\n",
       " []\n",
       " [1.0]\n",
       " []\n",
       " [2.0]\n",
       " []\n",
       " []\n",
       " []\n",
       " []\n",
       " []\n",
       " []\n",
       " []\n",
       " []\n",
       " []\n",
       " []\n",
       " [3.0]\n",
       " []\n",
       " []\n",
       " []\n",
       " []\n",
       " [4.0]\n",
       " []\n",
       " []\n",
       " []"
      ]
     },
     "execution_count": 40,
     "metadata": {},
     "output_type": "execute_result"
    }
   ],
   "source": [
    "w = Vector{Vector{Float64}}() \n",
    "y = copy(Wind_farms[1,:])\n",
    "        for i in 1:N_n  \n",
    "            a = findall(y -> y==i, y)\n",
    "            push!(w,a)\n",
    "        end\n",
    "    return w"
   ]
  },
  {
   "cell_type": "code",
   "execution_count": null,
   "id": "840bdf28",
   "metadata": {},
   "outputs": [],
   "source": []
  }
 ],
 "metadata": {
  "kernelspec": {
   "display_name": "Julia 1.7.0",
   "language": "julia",
   "name": "julia-1.7"
  },
  "language_info": {
   "file_extension": ".jl",
   "mimetype": "application/julia",
   "name": "julia",
   "version": "1.7.0"
  }
 },
 "nbformat": 4,
 "nbformat_minor": 5
}
