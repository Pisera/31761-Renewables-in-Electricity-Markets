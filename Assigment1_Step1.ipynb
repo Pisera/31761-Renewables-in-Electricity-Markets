{
 "cells": [
  {
   "cell_type": "markdown",
   "id": "b7b9f236",
   "metadata": {},
   "source": [
    "# Assigment 1, <font color='red'>Step 1</font> \n",
    "Please discard the whole transmission network, resulting in a cupper‐plate system. This means that all demands and all generation units are located in a single node. This assumption will be relaxed in future steps. Please also discard the information about reserve capacity of generators (it will be needed in Step 4).\n",
    "1. Assuming all 17 demands are inelastic to price, solve the market‐clearing optimization problem in Julia, and report market‐clearing outcomes, including the total production cost of the system, production quantity of each generator, and the market‐clearing price (under uniform pricing). In addition, please compute the profit (not revenue) of each conventional generator and that of each wind farm if the underlying pricing scheme is (a) uniform, (b) pay‐as‐bid, i.e., every one is paid based on what she bided.\n",
    "\n",
    "2. Now, let’s assume all demands are elastic to price. Please give arbitrarily selected values for their bid prices. Solve the market‐clearing optimization problem in Julia, and report market‐clearing outcomes. Ideally, tune bid price of demands in a way that a part of the whole demand (around 10%) will not be supplied. Please report the social welfare, production quantity of each generator, consumption quantity of each demand, the market‐clearing price (under uniform pricing), the profit (not revenue) of each conventional generator and each wind farm as well as the utility (not payment) of each demand if the underlying pricing scheme is (a) uniform, (b) pay‐as‐bid.\n",
    "\n",
    "2. The bid price of demands and the offer price of generators/farms are private information (these information are only available to the market operator). Assuming these information are public, discuss how each generator/farm/demand will change her offer/bid price to maximize her own profit/utility if the underlying pricing scheme is (a) uniform, (b) pay‐as‐bid."
   ]
  },
  {
   "cell_type": "code",
   "execution_count": 9,
   "id": "869d63a0",
   "metadata": {},
   "outputs": [
    {
     "ename": "LoadError",
     "evalue": "SystemError: opening file \"/Users/diegopisera/Documents/GitHub/Jupyter/http:/localhost:8888/notebooks/Documents/GitHub/Jupyter/Assigment1_Input_data.ipynb\": No such file or directory",
     "output_type": "error",
     "traceback": [
      "SystemError: opening file \"/Users/diegopisera/Documents/GitHub/Jupyter/http:/localhost:8888/notebooks/Documents/GitHub/Jupyter/Assigment1_Input_data.ipynb\": No such file or directory",
      "",
      "Stacktrace:",
      "  [1] systemerror(p::String, errno::Int32; extrainfo::Nothing)",
      "    @ Base ./error.jl:174",
      "  [2] #systemerror#68",
      "    @ ./error.jl:173 [inlined]",
      "  [3] systemerror",
      "    @ ./error.jl:173 [inlined]",
      "  [4] open(fname::String; lock::Bool, read::Nothing, write::Nothing, create::Nothing, truncate::Nothing, append::Nothing)",
      "    @ Base ./iostream.jl:293",
      "  [5] open",
      "    @ ./iostream.jl:282 [inlined]",
      "  [6] open(f::Base.var\"#364#365\"{String}, args::String; kwargs::Base.Pairs{Symbol, Union{}, Tuple{}, NamedTuple{(), Tuple{}}})",
      "    @ Base ./io.jl:328",
      "  [7] open",
      "    @ ./io.jl:328 [inlined]",
      "  [8] read",
      "    @ ./io.jl:436 [inlined]",
      "  [9] _include(mapexpr::Function, mod::Module, _path::String)",
      "    @ Base ./loading.jl:1249",
      " [10] include(fname::String)",
      "    @ Base.MainInclude ./client.jl:451",
      " [11] top-level scope",
      "    @ In[9]:3",
      " [12] eval",
      "    @ ./boot.jl:373 [inlined]",
      " [13] include_string(mapexpr::typeof(REPL.softscope), mod::Module, code::String, filename::String)",
      "    @ Base ./loading.jl:1196"
     ]
    }
   ],
   "source": [
    "#include( \"Users/diegopisera/Documents/GitHub/Jupyter/Assigment1_Input_data.ipynb\")\n",
    "\n",
    "include(\"http://localhost:8888/notebooks/Documents/GitHub/Jupyter/Assigment1_Input_data.ipynb\")"
   ]
  },
  {
   "cell_type": "code",
   "execution_count": null,
   "id": "a57ce550",
   "metadata": {},
   "outputs": [],
   "source": []
  }
 ],
 "metadata": {
  "kernelspec": {
   "display_name": "Julia 1.7.0",
   "language": "julia",
   "name": "julia-1.7"
  },
  "language_info": {
   "file_extension": ".jl",
   "mimetype": "application/julia",
   "name": "julia",
   "version": "1.7.0"
  }
 },
 "nbformat": 4,
 "nbformat_minor": 5
}
