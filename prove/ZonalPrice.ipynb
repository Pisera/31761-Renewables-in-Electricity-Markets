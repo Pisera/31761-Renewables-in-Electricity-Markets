{
 "cells": [
  {
   "cell_type": "markdown",
   "id": "65d09162",
   "metadata": {},
   "source": [
    "# Nodal price\n",
    "\n",
    "## Data\n"
   ]
  },
  {
   "cell_type": "code",
   "execution_count": 1,
   "id": "2e482438",
   "metadata": {},
   "outputs": [],
   "source": [
    "# Import Data\n",
    "\n",
    "## Conventional Generators data\n",
    "Conventional_generators = [\n",
    "        1 2 7 13 15 15 16 18 21 22 23 23;\n",
    "        13.32 13.32 20.7 20.93 26.11 10.52 10.52 6.02 5.47 7 10.52 10.89;\n",
    "        1.68 1.68 3.30 4.07 1.89 5.48 5.48 4.98 5.53 8.00 3.45 5.11;\n",
    "        2.32 2.32 4.67 3.93 3.11 3.52 3.52 5.02 4.97 6.00 2.52 2.89;\n",
    "        106.4 106.4 245 413.7 42 108.5 108.5 280 280 210 217 245;\n",
    "        48 48 84 216 42 36 36 60 60 48 72 48;\n",
    "        48 48 84 216 42 36 36 60 60 48 72 48;\n",
    "    ]\n",
    "##  Wind Farms data\n",
    "\n",
    "Wind_farms = [\n",
    "    3 5 16 21;\n",
    "    500 500 300 300;\n",
    "    120.54 115.52 53.34 38.16;\n",
    "]\n",
    "\n",
    "## Demands\n",
    "Demands = [\n",
    "    1 2 3 4 5 6 7 8 9 10 13 14 15 16 18 19 20;\n",
    "    84 75 139 58 55 106 97 132 135 150 205 150 245 77 258 141 100;\n",
    "    500 500 500 500 500 500 500 500 500 500 500 500 500 500 500 500 500;\n",
    "    ]\n",
    "\n",
    "## Transmission_lines Data\n",
    "Transmission_fir = [\n",
    "    1 1 1 2 2 3 3 4 5 6 7 8 8 9 9 10 10;\n",
    "    2 3 5 4 6 9 24 9 10 10 8 9 10 11 12 11 12;\n",
    "    0.0146 0.2253 0.0907 0.1356 0.205 0.1271 0.084 0.111 0.094 0.0642 0.0652 0.1762 0.1762 0.084 0.084 0.084 0.084;\n",
    "    175 175 350 175 175 175 400 175 350 175 350 175 175 400 400 400 400;\n",
    "]\n",
    "\n",
    "Transmission_sec =[\n",
    "    11 11 12 12 13 14 15 15 15 16 16 17 17 18 19 20 21;\n",
    "    13 14 13 23 23 16 16 21 24 17 19 18 22 21 20 23 22;\n",
    "    0.0488 0.0426 0.0488 0.0985 0.0884 0.0594 0.0172 0.0249 0.0529 0.0263 0.0234 0.0143 0.1069 0.0132 0.0203 0.0112 0.0692;\n",
    "    500 500 500 500 250 250 500 400 500 500 500 500 500 1000 1000 1000 500;\n",
    "]\n",
    "\n",
    "Transmission_lines = hcat(Transmission_fir, Transmission_sec)\n",
    "\n",
    "# Get parameters from Data\n",
    "## number of Conventional_generators\n",
    "N_G = size(Conventional_generators,2)\n",
    "## number of Wind_farms\n",
    "N_W = size(Wind_farms,2)\n",
    "## Number of Demands\n",
    "N_D = size(Demands,2)\n",
    "## Number of Transmission_lines\n",
    "N_l = size(Transmission_lines,2)\n",
    "## Number of nodes\n",
    "(N_n, ) = findmax(Transmission_lines[1:2,:])\n",
    "N_n = Int64.(N_n)\n",
    "## Number of zones\n",
    "N_a = 2 \n",
    "\n",
    "## Susceptance of lines\n",
    "Susceptance = 1 ./ Transmission_lines[3,:]\n",
    "\n",
    "U = (Demands[2,:] + ones(N_D) *45)'\n",
    "\n",
    "C = (Conventional_generators[5,1:end]/2)'\n",
    "\n",
    "T = zeros(4)'\n",
    "\n",
    "P_cg_max = Conventional_generators[5,1:end]\n",
    "P_cg_min = zeros(N_G)\n",
    "\n",
    "P_wt_max = Wind_farms[3,:]\n",
    "P_wt_min = zeros(N_W)\n",
    "\n",
    "P_dem_max = Demands[2,:]\n",
    "P_dem_min = zeros(N_D);"
   ]
  },
  {
   "cell_type": "markdown",
   "id": "661579bc",
   "metadata": {},
   "source": [
    "## Functions"
   ]
  },
  {
   "cell_type": "code",
   "execution_count": 2,
   "id": "da3826f1",
   "metadata": {},
   "outputs": [
    {
     "data": {
      "text/plain": [
       "getelmzone (generic function with 1 method)"
      ]
     },
     "execution_count": 2,
     "metadata": {},
     "output_type": "execute_result"
    }
   ],
   "source": [
    "function swaprow!(x,i,j)\n",
    "         for k in axes(x,2)\n",
    "           idata = x[i,k]\n",
    "           x[i,k] = x[j,k]\n",
    "           x[j,k] = idata\n",
    "         end\n",
    "       end\n",
    "\n",
    "function getbuscxn(Transmission_lines,N_n)\n",
    "  X = Transmission_lines[1:2,:]\n",
    "    swaprow!(X,1,2)\n",
    "    Ωₙ = Vector{Vector{Int8}}()\n",
    "    Ω_idx =  Vector{Vector{Int8}}()\n",
    "        for i in 1:N_n\n",
    "                x = Transmission_lines[1:2,:]\n",
    "                a = findall(x -> x==i, x)\n",
    "                b = getindex.(a, 2)\n",
    "                push!(Ωₙ,X[a])\n",
    "                push!(Ω_idx,b)\n",
    "        end\n",
    "        return Ωₙ, Ω_idx\n",
    "end\n",
    "\n",
    "function getelmcxt(Demands, Conventional_generators, Wind_farms, N_n)\n",
    "\n",
    "    d = Vector{Vector{Int8}}()\n",
    "    y1 = copy(Demands[1,:])\n",
    "            for i in 1:N_n\n",
    "                a = findall(y1 -> y1==i, y1)\n",
    "                push!(d,a)\n",
    "            end\n",
    "\n",
    "    g = Vector{Vector{Int8}}()\n",
    "    y2 = copy(Conventional_generators[1,:])\n",
    "            for i in 1:N_n\n",
    "                a = findall(y2 -> y2==i, y2)\n",
    "                push!(g,a)\n",
    "            end\n",
    "\n",
    "    w = Vector{Vector{Int8}}()\n",
    "    y = copy(Wind_farms[1,:])\n",
    "            for i in 1:N_n\n",
    "                a = findall(y -> y==i, y)\n",
    "                push!(w,a)\n",
    "            end\n",
    "\n",
    "return d,g,w\n",
    "end\n",
    "\n",
    "function getelmzone(Demands, Conventional_generators, Wind_farms, N_n)\n",
    "\n",
    "  (d,g,w) = getelmcxt(Demands, Conventional_generators, Wind_farms, N_n)\n",
    "    \n",
    "    zone_A =[1,2,3,4,5,6,7,8,9,10,11,12,13]\n",
    "    zone_B =[14,15,16,17,18,19,20,21,22,23,24]\n",
    "\n",
    "    d1 = copy.(d)\n",
    "    a = []\n",
    "    for i in zone_A\n",
    "        a = vcat(a,d1[i])\n",
    "    end\n",
    "    d2 = copy.(d)\n",
    "    b = []\n",
    "    for i in zone_B\n",
    "        b = vcat(b,d2[i])\n",
    "    end\n",
    "    d_z =[[a];[b]]\n",
    "    \n",
    "    g1 = copy.(g)\n",
    "    a = []\n",
    "    for i in zone_A\n",
    "        a = vcat(a,g1[i])\n",
    "    end\n",
    "    g2 = copy.(g)\n",
    "    b = []\n",
    "    for i in zone_B\n",
    "        b = vcat(b,g2[i])\n",
    "    end\n",
    "    g_z =[[a];[b]]\n",
    "    \n",
    "    w1 = copy.(w)\n",
    "    a = []\n",
    "    for i in zone_A\n",
    "        a = vcat(a,w1[i])\n",
    "    end\n",
    "    w2 = copy.(w)\n",
    "    b = []\n",
    "    for i in zone_B\n",
    "        b = vcat(b,w2[i])\n",
    "    end\n",
    "    w_z =[[a];[b]]\n",
    "    \n",
    "return d_z, g_z, w_z\n",
    "end"
   ]
  },
  {
   "cell_type": "markdown",
   "id": "42926d8c",
   "metadata": {},
   "source": [
    "## Inizio script"
   ]
  },
  {
   "cell_type": "code",
   "execution_count": 3,
   "id": "e2c7394a",
   "metadata": {},
   "outputs": [
    {
     "data": {
      "text/plain": [
       "2-element Vector{Vector{Int64}}:\n",
       " [2]\n",
       " [1]"
      ]
     },
     "execution_count": 3,
     "metadata": {},
     "output_type": "execute_result"
    }
   ],
   "source": [
    "(d,g,w) = getelmcxt(Demands, Conventional_generators, Wind_farms, N_n) # Ψₙ \n",
    "(Ωₙ,Ω_idx) = getbuscxn(Transmission_lines,N_n); # Ωₙ\n",
    "(d_z, g_z, w_z) = getelmzone(Demands, Conventional_generators, Wind_farms, N_n) # Ψₐ\n",
    "Ωₐ = [[2],[1]] # Ωₐ"
   ]
  },
  {
   "cell_type": "code",
   "execution_count": 4,
   "id": "49e2b93e",
   "metadata": {},
   "outputs": [
    {
     "data": {
      "text/plain": [
       "1650.0"
      ]
     },
     "execution_count": 4,
     "metadata": {},
     "output_type": "execute_result"
    }
   ],
   "source": [
    "## calculate the value of ATC (Available Transfer Capacities) between zones\n",
    "\n",
    "N_a = 2\n",
    "zone_A =[1,2,3,4,5,6,7,8,9,10,11,12,13]\n",
    "zone_B =[14,15,16,17,18,19,20,21,22,23,24]\n",
    "ATC = zeros(N_a,N_a)\n",
    "cxn_line = [7,18,21,22]\n",
    "ATC[1,2] = sum(Transmission_lines[4,cxn_line])\n",
    "ATC[2,1] = ATC[1,2]"
   ]
  },
  {
   "cell_type": "code",
   "execution_count": 6,
   "id": "6ae75f6c",
   "metadata": {},
   "outputs": [
    {
     "name": "stdout",
     "output_type": "stream",
     "text": [
      "termination_status(vector_model) = MathOptInterface.OPTIMAL\n",
      "primal_status(vector_model) = MathOptInterface.FEASIBLE_POINT\n",
      "dual_status(vector_model) = MathOptInterface.FEASIBLE_POINT\n",
      "objective_value(vector_model) = 253295.69\n",
      "value.(P_G) = [106.4, 106.4, 245.0, 0.0, 42.0, 108.5, 108.5, 141.64000000000004, 0.0, 210.0, 217.0, 245.0]\n",
      "value.(P_W) = [120.54, 115.52, 53.34, 38.16]\n",
      "value.(P_D) = [0.0, 0.0, 139.0, 0.0, 0.0, 106.0, 97.0, 132.0, 135.0, 150.0, 205.0, 150.0, 245.0, 0.0, 258.00000000000006, 141.0, 100.0]\n",
      "value.(f_ab) = [0.0 -270.14; 270.14000000000004 0.0]\n"
     ]
    }
   ],
   "source": [
    "using JuMP\n",
    "using GLPK\n",
    "\n",
    "\n",
    "vector_model = Model(GLPK.Optimizer)\n",
    "\n",
    "@variable(vector_model, P_G[1:N_G] >= 0)\n",
    "@variable(vector_model, P_W[1:N_W] >= 0)\n",
    "@variable(vector_model, P_D[1:N_D] >= 0)\n",
    "@variable(vector_model, f_ab[1:N_a,1:N_a])\n",
    "\n",
    "@constraint(vector_model, cg_con[i=1:N_G], P_cg_min[i] <= P_G[i] <= P_cg_max[i])\n",
    "@constraint(vector_model, wt_con[i=1:N_W], P_wt_min[i] <= P_W[i] <= P_wt_max[i])\n",
    "@constraint(vector_model, dem_con[i=1:N_D], P_dem_min[i] <= P_D[i] <= P_dem_max[i]);\n",
    "\n",
    "\n",
    "@constraint(vector_model, bal_con[i=1:N_a], sum(P_D[d_z[i]]) + sum(f_ab[i,:]) - sum(P_G[g_z[i]]) - sum(P_W[w_z[i]]) .== 0)\n",
    "@constraint(vector_model, trans[i=1:N_a,j=1:N_a], f_ab[i,j] == -f_ab[j,i])\n",
    "\n",
    "@constraint(vector_model, flow_trans[i=1:N_a,j=1:N_a], - ATC[i,j] <= f_ab[i,j] <= ATC[i,j])\n",
    "\n",
    "@objective(vector_model, Max, - T*P_W - C*P_G + U*P_D)\n",
    "\n",
    "#print(vector_model)\n",
    "optimize!(vector_model)\n",
    "@show termination_status(vector_model)\n",
    "@show primal_status(vector_model)\n",
    "@show dual_status(vector_model)\n",
    "@show objective_value(vector_model)\n",
    "@show value.(P_G)\n",
    "@show value.(P_W)\n",
    "@show value.(P_D)\n",
    "@show value.(f_ab);"
   ]
  },
  {
   "cell_type": "markdown",
   "id": "8168cc0d",
   "metadata": {},
   "source": [
    "# Marcket Clearing Price"
   ]
  },
  {
   "cell_type": "code",
   "execution_count": 8,
   "id": "eddebb4e",
   "metadata": {},
   "outputs": [
    {
     "data": {
      "text/plain": [
       "2-element Vector{Float64}:\n",
       " 140.0\n",
       " 140.0"
      ]
     },
     "execution_count": 8,
     "metadata": {},
     "output_type": "execute_result"
    }
   ],
   "source": [
    "## Market Clearing Price\n",
    "λₐ = Vector{Float64}(undef,N_a)\n",
    "for i = 1:N_a\n",
    "    λₐ[i] = shadow_price(bal_con[i])\n",
    "end\n",
    "λₐ"
   ]
  },
  {
   "cell_type": "markdown",
   "id": "fbafcc76",
   "metadata": {},
   "source": [
    "# Please vary the value of ATC,\n",
    "and find at which value of ATC, thesetwo prices become equal (or unequal)."
   ]
  },
  {
   "cell_type": "code",
   "execution_count": 28,
   "id": "76bf5f10",
   "metadata": {},
   "outputs": [
    {
     "name": "stdout",
     "output_type": "stream",
     "text": [
      "termination_status(vector_model) = MathOptInterface.OPTIMAL\n",
      "primal_status(vector_model) = MathOptInterface.FEASIBLE_POINT\n",
      "dual_status(vector_model) = MathOptInterface.FEASIBLE_POINT\n",
      "objective_value(vector_model) = 253295.41\n",
      "value.(P_G) = [106.4, 106.4, 245.0, 0.0, 42.0, 108.5, 108.5, 141.5, 0.0, 210.0, 217.0, 245.0]\n",
      "value.(P_W) = [120.54, 115.52, 53.34, 38.16]\n",
      "value.(P_D) = [0.0, 0.0, 139.0, 0.0, 0.0, 106.0, 96.85999999999997, 132.0, 135.0, 150.0, 205.0, 150.0, 245.0, 0.0, 258.0, 141.0, 100.0]\n",
      "value.(f_ab) = [0.0 -270.0; 270.0 0.0]\n"
     ]
    }
   ],
   "source": [
    "ATC[1,2] = 270.0\n",
    "ATC[2,1] = ATC[1,2]\n",
    "vector_model = Model(GLPK.Optimizer)\n",
    "\n",
    "@variable(vector_model, P_G[1:N_G] >= 0)\n",
    "@variable(vector_model, P_W[1:N_W] >= 0)\n",
    "@variable(vector_model, P_D[1:N_D] >= 0)\n",
    "@variable(vector_model, f_ab[1:N_a,1:N_a])\n",
    "\n",
    "@constraint(vector_model, cg_con[i=1:N_G], P_cg_min[i] <= P_G[i] <= P_cg_max[i])\n",
    "@constraint(vector_model, wt_con[i=1:N_W], P_wt_min[i] <= P_W[i] <= P_wt_max[i])\n",
    "@constraint(vector_model, dem_con[i=1:N_D], P_dem_min[i] <= P_D[i] <= P_dem_max[i]);\n",
    "\n",
    "@constraint(vector_model, bal_con[i=1:N_a], sum(P_D[d_z[i]]) + sum(f_ab[i,:]) - sum(P_G[g_z[i]]) - sum(P_W[w_z[i]]) .== 0)\n",
    "@constraint(vector_model, trans[i=1:N_a,j=1:N_a], f_ab[i,j] == -f_ab[j,i])\n",
    "\n",
    "@constraint(vector_model, flow_trans[i=1:N_a,j=1:N_a], - ATC[i,j] <= f_ab[i,j] <= ATC[i,j])\n",
    "\n",
    "@objective(vector_model, Max, - T*P_W - C*P_G + U*P_D)\n",
    "\n",
    "#print(vector_model)\n",
    "optimize!(vector_model)\n",
    "@show termination_status(vector_model)\n",
    "@show primal_status(vector_model)\n",
    "@show dual_status(vector_model)\n",
    "@show objective_value(vector_model)\n",
    "@show value.(P_G)\n",
    "@show value.(P_W)\n",
    "@show value.(P_D)\n",
    "@show value.(f_ab);"
   ]
  },
  {
   "cell_type": "code",
   "execution_count": 26,
   "id": "ad42931e",
   "metadata": {},
   "outputs": [
    {
     "data": {
      "text/plain": [
       "2-element Vector{Float64}:\n",
       " 142.0\n",
       " 140.0"
      ]
     },
     "execution_count": 26,
     "metadata": {},
     "output_type": "execute_result"
    }
   ],
   "source": [
    "## Market Clearing Price\n",
    "λₐ = Vector{Float64}(undef,N_a)\n",
    "for i = 1:N_a\n",
    "    λₐ[i] = shadow_price(bal_con[i])\n",
    "end\n",
    "λₐ"
   ]
  },
  {
   "cell_type": "code",
   "execution_count": null,
   "id": "189f1b9a",
   "metadata": {},
   "outputs": [],
   "source": []
  }
 ],
 "metadata": {
  "kernelspec": {
   "display_name": "Julia 1.7.0",
   "language": "julia",
   "name": "julia-1.7"
  },
  "language_info": {
   "file_extension": ".jl",
   "mimetype": "application/julia",
   "name": "julia",
   "version": "1.7.0"
  }
 },
 "nbformat": 4,
 "nbformat_minor": 5
}
