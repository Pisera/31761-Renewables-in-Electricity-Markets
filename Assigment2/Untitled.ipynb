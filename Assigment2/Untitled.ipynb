{
 "cells": [
  {
   "cell_type": "markdown",
   "id": "dc539888-30d0-4953-af37-c3e242abe090",
   "metadata": {},
   "source": [
    "# Assigment 1, part I\\n\n",
    "Please consider a wind farm with the nominal (installed) capacity of 150 MW. We are interested to formulate and solve an offering strategy problem for this farm. This problem determines her participation strategy in the day‐ahead market (in terms of her hourly production quantities). that her offer price is zero. We consider a time framework of 24 hours. Please also note that we discard reserve and intra‐day markets, and consider day‐ahead and balancing markets only."
   ]
  },
  {
   "cell_type": "markdown",
   "id": "254e5676-ec2e-4640-9ca1-96cf84cfb38d",
   "metadata": {},
   "source": [
    "**Scenarios:**"
   ]
  },
  {
   "cell_type": "markdown",
   "id": "173b8857-c951-4ffb-8167-7e42bfbea415",
   "metadata": {},
   "source": [
    "Please consider at least 50 scenarios.  \n",
    "We can assume these scenarios are equiprobable.  \n",
    "**Note 1:** the two sources of uncertainty are wind power forecast and day‐ahead market price forecast. Discarding the potential correlation between these two sources of uncertainty, the total number of scenarios is equal to the number of scenarios for uncertain source 1 times the number of scenarios for uncertain source 2. For example, if we consider 10 wind power forecast scenarios and 5 day‐ahead price forecast scenarios, this results in 5*10 = 50 scenarios.  \n",
    "**Note 2:** Similar to the lecture, the coefficients for the balancing price are 0.9 and 1.2."
   ]
  },
  {
   "cell_type": "markdown",
   "id": "8e9e8c82-ca6a-47a7-8620-c60594a3c5d8",
   "metadata": {},
   "source": [
    "**Example:**"
   ]
  },
  {
   "cell_type": "markdown",
   "id": "d43ff439-70c1-45bb-bd59-3235908f9bf5",
   "metadata": {},
   "source": [
    "![Descrizione](immagini\\esempi_di_wind_power_e_market_price_scenari.png)"
   ]
  },
  {
   "cell_type": "markdown",
   "id": "dceb69ad-b549-4b79-b589-ec06a70e2e87",
   "metadata": {},
   "source": [
    "**Potential references for wind power scenarios:**"
   ]
  },
  {
   "cell_type": "markdown",
   "id": "c5d6eb79-4c82-4bf3-bf73-1b22426f8afe",
   "metadata": {},
   "source": [
    "**Reference 1:** https://sites.google.com/site/datasmopf/wind‐scenarios"
   ]
  },
  {
   "cell_type": "markdown",
   "id": "ae8abeaf-82ba-4fc3-98c0-7332c81ea67b",
   "metadata": {},
   "source": [
    "**Reference 2:** You can get wind data from FINGERID website(https://www.fingrid.fi/en/electricitymarket/electricity‐market‐information/wind‐power‐generation/) or ELIA website (https://www.elia.be/en/griddata/power‐generation/wind‐power‐generation), and normalize them for a 150‐MW wind farm. Although they report “aggregate” wind data, you can assume they are data for an individual farm. The wind profile during a day can be seen as a scenario. For example, wind profile on March 1 can be seen as scenario 1. This profile on March 2 can be seen as the second scenario, and so on."
   ]
  },
  {
   "cell_type": "markdown",
   "id": "2fbadf30-dadc-4683-8d7d-1d14a4f7fa25",
   "metadata": {},
   "source": [
    "**Potential reference for day‐ahead market price scenarios:**"
   ]
  },
  {
   "cell_type": "markdown",
   "id": "0769a693-5a7c-45b4-9a02-77eba2677add",
   "metadata": {},
   "source": [
    "Using a similar strategy, you can generate price scenarios from Nord Pool website: https://www.nordpoolgroup.com/Market‐data1/Dayahead/Area‐Prices/ALL1/Hourly/?view=table For example, you can assume the wind farm is located in DK1, and use the corresponding hourly day‐aheadmarket prices."
   ]
  },
  {
   "cell_type": "markdown",
   "id": "3bbdd4f2-119e-4714-a660-80fd76363d85",
   "metadata": {},
   "source": [
    "**Steps:**"
   ]
  },
  {
   "cell_type": "markdown",
   "id": "82df71b8-c9e2-412b-8f74-19943bd5441e",
   "metadata": {},
   "source": [
    "1. Formulate and solve the stochastic offering strategy problem accounting for 50 scenarios. Determine the optimal hourly production quantities that      the wind farm should offer in the day‐ahead market. Report the expected profit.\n",
    "2. While keeping the coefficient for the balancing market price under power excess condition to 0.9, vary the other coefficient from 1.05 to 1.35, and explore how the offerings strategy of the wind farm changes. Similarly, keep coefficient 1.2 unchanged, and vary the other one from 0.75 to 0.95. These results can be illustrated through a couple of figures. A discussion on results is recommended.\n",
    "3. For fixed coefficients of 0.9 and 1.2 and given value of $\\\\alpha = 0.90$, formulate and solve the riskaverse offering strategy problem. Recall that the objective function is in the form of $[(expected \\\\ profit)\\ + (\\\\beta * CVaR)]$.  \n",
    "Gradually increase the value of $\\\\beta$, starting from zero. For each value of $\\\\beta$, save the values obtained for the expected profit and for the CVaR, and plot a 2‐dimention figure ($expected profit$ versus $CVaR$). Note that the $CVaR$ value does not include $\\\\beta$. Please interpret this figure. In addition, please explain how the offering strategy of the wind farm and her profit volatility over scenarios are changing by increasing $\\\\beta$. Finally, for different values of confidence level (i.e., \\\\alpha=0.80 and \\\\alpha=0.95), repeat this step and report your observations."
   ]
  },
  {
   "cell_type": "markdown",
   "id": "5628b33d-8346-4dd0-a91f-95aea32691a5",
   "metadata": {},
   "source": [
    "# 0. Get data from reference"
   ]
  },
  {
   "cell_type": "code",
   "execution_count": 36,
   "id": "46e598a0-8e57-433d-8e22-f4ad1f94d007",
   "metadata": {},
   "outputs": [],
   "source": [
    "Pⁿᵒᵐ = 150 # nominal installed capacity \n",
    "N_t = 24; # time framework of 24 hors"
   ]
  },
  {
   "cell_type": "markdown",
   "id": "f63b321b-314a-4c0a-a4d2-52fe58e0a166",
   "metadata": {},
   "source": [
    "## 1.1 Reference for wind power scenarios"
   ]
  },
  {
   "cell_type": "code",
   "execution_count": null,
   "id": "508c32cb-3195-4f71-9d4b-88ed096b1f78",
   "metadata": {},
   "outputs": [],
   "source": []
  }
 ],
 "metadata": {
  "kernelspec": {
   "display_name": "Julia 1.10.5",
   "language": "julia",
   "name": "julia-1.10"
  },
  "language_info": {
   "file_extension": ".jl",
   "mimetype": "application/julia",
   "name": "julia",
   "version": "1.10.5"
  }
 },
 "nbformat": 4,
 "nbformat_minor": 5
}
