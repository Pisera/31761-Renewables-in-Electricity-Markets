{
 "cells": [
  {
   "cell_type": "markdown",
   "id": "b7b9f236",
   "metadata": {},
   "source": [
    "# Assigment 1, $\\color{red}{\\text{Step 1}}$\n",
    "Please discard the whole transmission network, resulting in a cupper‐plate system. This means that all demands and all generation units are located in a single node. This assumption will be relaxed in future steps. Please also discard the information about reserve capacity of generators (it will be needed in Step 4).\n",
    "1. Assuming all 17 demands are inelastic to price, solve the market‐clearing optimization problem in Julia, and report market‐clearing outcomes, including the total production cost of the system, production quantity of each generator, and the market‐clearing price (under uniform pricing). In addition, please compute the profit (not revenue) of each conventional generator and that of each wind farm if the underlying pricing scheme is (a) uniform, (b) pay‐as‐bid, i.e., every one is paid based on what she bided.\n",
    "\n",
    "2. Now, let’s assume all demands are elastic to price. Please give arbitrarily selected values for their bid prices. Solve the market‐clearing optimization problem in Julia, and report market‐clearing outcomes. Ideally, tune bid price of demands in a way that a part of the whole demand (around 10%) will not be supplied. Please report the social welfare, production quantity of each generator, consumption quantity of each demand, the market‐clearing price (under uniform pricing), the profit (not revenue) of each conventional generator and each wind farm as well as the utility (not payment) of each demand if the underlying pricing scheme is (a) uniform, (b) pay‐as‐bid.\n",
    "\n",
    "2. The bid price of demands and the offer price of generators/farms are private information (these information are only available to the market operator). Assuming these information are public, discuss how each generator/farm/demand will change her offer/bid price to maximize her own profit/utility if the underlying pricing scheme is (a) uniform, (b) pay‐as‐bid."
   ]
  },
  {
   "cell_type": "code",
   "execution_count": 96,
   "id": "693fce53",
   "metadata": {},
   "outputs": [
    {
     "name": "stderr",
     "output_type": "stream",
     "text": [
      "\u001b[32m\u001b[1m   Resolving\u001b[22m\u001b[39m package versions...\n",
      "\u001b[32m\u001b[1m  No Changes\u001b[22m\u001b[39m to `~/.julia/environments/v1.7/Project.toml`\n",
      "\u001b[32m\u001b[1m  No Changes\u001b[22m\u001b[39m to `~/.julia/environments/v1.7/Manifest.toml`\n"
     ]
    }
   ],
   "source": [
    "using Pkg\n",
    "Pkg.add(\"NBInclude\");"
   ]
  },
  {
   "cell_type": "code",
   "execution_count": 97,
   "id": "869d63a0",
   "metadata": {},
   "outputs": [],
   "source": [
    "using NBInclude\n",
    "@nbinclude(\"Assigment1_Input_data.ipynb\");"
   ]
  },
  {
   "cell_type": "markdown",
   "id": "fc0cc06f",
   "metadata": {},
   "source": [
    "## 1 Market clearing optimization problem assuming demands are inelastic to price\n",
    "Assuming all 17 demands are inelastic to price, solve the market‐clearing optimization problem in Julia, and report market‐clearing outcomes, including the total production cost of the system, production quantity of each generator, and the market‐clearing price (under uniform pricing). In addition, please compute the profit (not revenue) of each conventional generator and that of each wind farm if the underlying pricing scheme is (a) uniform, (b) pay‐as‐bid, i.e., every one is paid based on what she bided.\n",
    "\n",
    "\\begin{aligned}\n",
    "\\min_{p^{G}_g,p^{W}_w} \\quad & \\sum_{g=1}^{N_{G}}{C_{g}p^{G}_g} + \\sum_{w=1}^{N_{W}}{T_{w} p^{W}_w}\\\\\n",
    "\\textrm{s.t.} \\quad & 0 \\geq p^{D}_{d} \\geq \\bar{P^{D}_{d}} \\quad \\quad \\forall d\\\\\n",
    "  & 0 \\geq p^{G}_{g} \\geq \\bar{P^{G}_{g}} \\quad \\quad \\forall g \\\\\n",
    "  & 0 \\geq p^{W}_{w} \\geq \\bar{P^{W}_{w}} \\quad \\quad \\forall w \\\\\n",
    "  & P^D - \\sum_{g=1}^{N_{G}}{p^{G}_g} - \\sum_{w=1}^{N_{W}}{p^{W}_w} = 0 \\quad :\\lambda \\\\\n",
    "\\end{aligned}\n",
    "\n",
    "$U_{d}:$ bid price of demand $d$ $[€/MWh]$\n",
    "\n",
    "$C_{g}:$ offer price of conventional generators $g$ $[€/MWh]$\n",
    "\n",
    "$T_{w}:$ offer price of wind turbines $w$ $[€/MWh]$\n",
    "\n",
    "#### Matrix model\n",
    "\n",
    "$U:$ row vector of bid price of demand $(N_{d} x 1)$\n",
    "\n",
    "$C:$ row vector of offer price of generators $(N_{g} x 1)$\n",
    "\n",
    "$T:$ row vector of offer price of wind turbines $(N_{w} x 1)$\n",
    "\n",
    "\n",
    "\n",
    "P_gen_max: column vector of maximum capacity of conventional generators $(1 x N_{g})$\n",
    "\n",
    "P_win_max: column vector of maximum generation of wind turbines $(1 x N_{w})$"
   ]
  },
  {
   "cell_type": "code",
   "execution_count": 98,
   "id": "15720411",
   "metadata": {},
   "outputs": [],
   "source": [
    "## 1.1 Input\n",
    "# variable constraints parameters\n",
    "P̅ᴳ = cg_capacity\n",
    "P̲ᴳ = zeros(N_G)\n",
    "P̅ᵂ = wf_day_ahead_forecast\n",
    "P̲ᵂ = zeros(N_W)\n",
    "\n",
    "# cost parameters\n",
    "C = (cg_capacity/2)'\n",
    "T = zeros(4)'\n",
    "\n",
    "# inelastic demands parameters\n",
    "pᴰ= Demands[2,:]; # Demends inelastic price"
   ]
  },
  {
   "cell_type": "code",
   "execution_count": 99,
   "id": "ad31e6c5",
   "metadata": {},
   "outputs": [
    {
     "name": "stdout",
     "output_type": "stream",
     "text": [
      "solve_time(inelastic_model) = 4.792213439941406e-5\n",
      "objective_value(inelastic_model) = 198284.31\n",
      "value.(pᴳ) = [106.4, 106.4, 245.0, 0.0, 42.0, 108.5, 108.5, 210.6400000000001, 280.0, 210.0, 217.0, 245.0]\n",
      "value.(pᵂ) = [120.54, 115.52, 53.34, 38.16]\n",
      "shadow_price(balance_con) = -140.0\n"
     ]
    }
   ],
   "source": [
    "## formulation\n",
    "using JuMP\n",
    "using GLPK\n",
    "\n",
    "inelastic_model = Model(GLPK.Optimizer)\n",
    "\n",
    "@variable(inelastic_model, pᴳ[1:N_G])\n",
    "@variable(inelastic_model, pᵂ[1:N_W])\n",
    "\n",
    "@constraint(inelastic_model, cg_con[i=1:N_G], P̲ᴳ[i] <= pᴳ[i] <= P̅ᴳ[i])\n",
    "@constraint(inelastic_model, wt_con[i=1:N_W], P̲ᵂ[i] <= pᵂ[i] <= P̅ᵂ[i])\n",
    "@constraint(inelastic_model, balance_con, + sum(pᴰ) - sum(pᴳ) - sum(pᵂ) .== 0)\n",
    "\n",
    "@objective(inelastic_model, Min, T*pᵂ + C*pᴳ)\n",
    "\n",
    "optimize!(inelastic_model)\n",
    "\n",
    "@show solve_time(inelastic_model)\n",
    "@show objective_value(inelastic_model)\n",
    "@show value.(pᴳ)\n",
    "@show value.(pᵂ)\n",
    "@show shadow_price(balance_con);"
   ]
  },
  {
   "cell_type": "code",
   "execution_count": 100,
   "id": "e8561c5c",
   "metadata": {},
   "outputs": [],
   "source": [
    "## Results\n",
    "λ_𝒰 = abs(shadow_price(balance_con)) # Market Clearing Price\n",
    "\n",
    "pᴳ_𝒰 = value.(pᴳ) # p\\scrD\\scrA\\^G\n",
    "pᵂ_𝒰 = value.(pᵂ)\n",
    "pᴰ_𝒰 = value.(pᴰ);"
   ]
  },
  {
   "cell_type": "code",
   "execution_count": 101,
   "id": "55a11bda",
   "metadata": {},
   "outputs": [],
   "source": [
    "## Profit computation\n",
    "\n",
    "### Under uniform pricing\n",
    "Rᴳ_𝒰_uni = pᴳ_𝒰 * λ_𝒰 # Revenue of conventional generators\n",
    "cost_fuel_𝒰 = cg_production_cost .* pᴳ_𝒰\n",
    "Profitᴳ_𝒰_uni = Rᴳ_𝒰_uni - cost_fuel_𝒰\n",
    "\n",
    "Rᵂ_𝒰_uni = pᵂ_𝒰 * λ_𝒰; # Revenue of wind farms\n",
    "Profitᵂ_𝒰_uni = Rᵂ_𝒰_uni #Profit\n",
    "\n",
    "### Under pay-as-bid pricing\n",
    "Rᴳ_𝒰_pab = C' .* pᴳ_𝒰 \n",
    "Profitᴳ_𝒰_pab = (C' - cg_production_cost) .* pᴳ_𝒰; \n",
    "\n",
    "Rᵂ_𝒰_pab =  T' .* pᵂ_𝒰\n",
    "Profitᵂ_𝒰_pab = Rᵂ_𝒰_pab;"
   ]
  },
  {
   "cell_type": "markdown",
   "id": "81588c49",
   "metadata": {},
   "source": [
    "## 2 Market clearing optimization problem assuming demands are elastic to price\n",
    "Now, let’s assume all demands are elastic to price. Please give arbitrarily selected values for their bid prices. Solve the market‐clearing optimization problem in Julia, and report market‐clearing outcomes. Ideally, tune bid price of demands in a way that a part of the whole demand (around 10%) will not be supplied. Please report the social welfare, production quantity of each generator, consumption quantity of each demand, the market‐clearing price (under uniform pricing), the profit (not revenue) of each conventional generator and each wind farm as well as the utility (not payment) of each demand if the underlying pricing scheme is (a) uniform, (b) pay‐as‐bid.\n",
    "\n",
    "\n",
    "#### Compact model\n",
    "\n",
    "\\begin{aligned}\n",
    "\\max_{p^{G}_g,p^{W}_w,p^{D}_d} \\quad & SW = \\sum_{d=1}^{N_{D}}{U_{d} p^{D}_d} - \\sum_{g=1}^{N_{G}}{C_{g}p^{G}_g} - \\sum_{w=1}^{N_{W}}{T_{w} p^{W}_w}\\\\\n",
    "\\textrm{s.t.} \\quad & 0 \\geq p^{D}_{d} \\geq \\bar{P^{D}_{d}} \\quad \\quad \\forall d\\\\\n",
    "  & 0 \\geq p^{G}_{g} \\geq \\bar{P^{G}_{g}} \\quad \\quad \\forall g \\\\\n",
    "  & 0 \\geq p^{W}_{w} \\geq \\bar{P^{W}_{w}} \\quad \\quad \\forall w \\\\\n",
    "  & \\sum_{d=1}^{N_{D}}{p^{D}_d} - \\sum_{g=1}^{N_{G}}{p^{G}_g} - \\sum_{w=1}^{N_{W}}{p^{W}_w} = 0 \\quad :\\lambda \\\\\n",
    "\\end{aligned}\n",
    "\n",
    "$U_{d}:$ bid price of demand $d$ $[€/MWh]$\n",
    "\n",
    "$C_{g}:$ offer price of conventional generators $g$ $[€/MWh]$\n",
    "\n",
    "$T_{w}:$ offer price of wind turbines $w$ $[€/MWh]$\n",
    "\n",
    "#### Matrix model\n",
    "\n",
    "$U:$ row vector of bid price of demand $(N_{d} x 1)$\n",
    "\n",
    "$C:$ row vector of offer price of generators $(N_{g} x 1)$\n",
    "\n",
    "$T:$ row vector of offer price of wind turbines $(N_{w} x 1)$\n",
    "\n",
    "P_dem_max: column vector of maximum load of demands $(1 x N_{d})$\n",
    "\n",
    "P_gen_max: column vector of maximum capacity of conventional generators $(1 x N_{g})$\n",
    "\n",
    "P_win_max: column vector of maximum generation of wind turbines (wind turbines forecasting) $(1 x N_{w})$"
   ]
  },
  {
   "cell_type": "code",
   "execution_count": 102,
   "id": "094c97f6",
   "metadata": {},
   "outputs": [],
   "source": [
    "## 1.1 Input\n",
    "# variable constraints parameters\n",
    "P̅ᴳ = cg_capacity\n",
    "P̲ᴳ = zeros(N_G)\n",
    "P̅ᵂ = wf_day_ahead_forecast\n",
    "P̲ᵂ = zeros(N_W)\n",
    "\n",
    "# cost parameters\n",
    "C = (cg_capacity/2)'\n",
    "T = zeros(4)'\n",
    "U = (Demands[2,:] + ones(N_D) * 60)'\n",
    "\n",
    "# inelastic demands parameters\n",
    "P̅ᴰ = Demands[2,:] # Demends elastic price\n",
    "P̲ᴰ = zeros(N_D);"
   ]
  },
  {
   "cell_type": "code",
   "execution_count": 103,
   "id": "bc021249",
   "metadata": {},
   "outputs": [
    {
     "name": "stdout",
     "output_type": "stream",
     "text": [
      "solve_time(elastic_model) = 0.00010895729064941406\n",
      "objective_value(elastic_model) = 281501.69\n",
      "value.(pᴳ) = [106.4, 106.4, 245.0, 0.0, 42.0, 108.5, 108.5, 225.64, 0.0, 210.0, 217.0, 245.0]\n",
      "value.(pᵂ) = [120.54, 115.52, 53.34, 38.16]\n",
      "value.(pᴰ) = [84.0, 0.0, 139.0, 0.0, 0.0, 106.0, 97.0, 132.0, 135.0, 150.0, 205.0, 150.0, 245.0, 0.0, 258.0, 141.0, 100.0]\n",
      "shadow_price(balance_con) = 140.0\n"
     ]
    }
   ],
   "source": [
    "## formulation\n",
    "using JuMP\n",
    "using GLPK\n",
    "\n",
    "elastic_model = Model(GLPK.Optimizer)\n",
    "\n",
    "@variable(elastic_model, pᴳ[1:N_G])\n",
    "@variable(elastic_model, pᵂ[1:N_W])\n",
    "@variable(elastic_model, pᴰ[1:N_D])\n",
    "\n",
    "\n",
    "@constraint(elastic_model, cg_con[i=1:N_G], P̲ᴳ[i] <= pᴳ[i] <= P̅ᴳ[i])\n",
    "@constraint(elastic_model, wt_con[i=1:N_W], P̲ᵂ[i] <= pᵂ[i] <= P̅ᵂ[i])\n",
    "@constraint(elastic_model, dem_con[i=1:N_D], P̲ᴰ[i] <= pᴰ[i] <= P̅ᴰ[i])\n",
    "\n",
    "@constraint(elastic_model, balance_con, + sum(pᴰ) - sum(pᴳ) - sum(pᵂ) .== 0)\n",
    "\n",
    "@objective(elastic_model, Max, U*pᴰ - T*pᵂ - C*pᴳ)\n",
    "\n",
    "optimize!(elastic_model)\n",
    "\n",
    "@show solve_time(elastic_model)\n",
    "@show objective_value(elastic_model)\n",
    "@show value.(pᴳ)\n",
    "@show value.(pᵂ)\n",
    "@show value.(pᴰ)\n",
    "@show shadow_price(balance_con);"
   ]
  },
  {
   "cell_type": "code",
   "execution_count": 104,
   "id": "22e4b620",
   "metadata": {},
   "outputs": [
    {
     "name": "stdout",
     "output_type": "stream",
     "text": [
      "2207\n",
      "1942.0\n"
     ]
    }
   ],
   "source": [
    "## Results\n",
    "λ_ℰ = shadow_price(balance_con)\n",
    "SW = objective_value(elastic_model)\n",
    "\n",
    "pᴳ_ℰ = value.(pᴳ) # p\\scrD\\scrA\\^G\n",
    "pᵂ_ℰ = value.(pᵂ)\n",
    "pᴰ_ℰ = value.(pᴰ);\n",
    "println(sum(P̅ᴰ))\n",
    "println(sum(pᴰ_ℰ))"
   ]
  },
  {
   "cell_type": "code",
   "execution_count": 105,
   "id": "44cee6c1",
   "metadata": {},
   "outputs": [],
   "source": [
    "## Profit computation\n",
    "\n",
    "### Under uniform pricing\n",
    "Rᴳ_ℰ_uni = pᴳ_ℰ * λ_ℰ # Revenue of conventional generators\n",
    "cost_fuel_ℰ = cg_production_cost .* pᴳ_ℰ\n",
    "Profitᴳ_ℰ_uni = Rᴳ_ℰ_uni - cost_fuel_ℰ # Profit of each conventional generator under (a) uniform pricing scheme\n",
    "\n",
    "Rᵂ_ℰ_uni = pᵂ_ℰ * λ_ℰ; # Revenue of wind farms\n",
    "Profitᵂ_ℰ_uni = Rᵂ_ℰ_uni # Profit of each wind farm under (a) uniform pricing scheme\n",
    "\n",
    "Demands_Payment = λ_ℰ * pᴰ_ℰ\n",
    "Curtaliment_cost = 500 * (P̅ᴰ - pᴰ_ℰ)\n",
    "Utility_cost = Demands_Payment - Curtaliment_cost # Utility of each demand under (a) uniform pricing scheme\n",
    "\n",
    "### Under pay-as-bid pricing\n",
    "Rᴳ_ℰ_pab = C' .* pᴳ_ℰ \n",
    "Profitᴳ_ℰ_pab = (C' - cg_production_cost) .* pᴳ_ℰ; # Profit of each conventional generator under (b) pay-as-bid pricing scheme\n",
    "\n",
    "Rᵂ_ℰ_pab =  T' .* pᵂ_ℰ\n",
    "Profitᵂ_ℰ_pab = Rᵂ_ℰ_pab;\n",
    "\n",
    "Demands_Payment_pab = U' .* pᴰ_ℰ\n",
    "Utility_cost_pab = Demands_Payment_pab - Curtaliment_cost; # Utility of each demand under (b) pay-as-bid pricing scheme"
   ]
  }
 ],
 "metadata": {
  "kernelspec": {
   "display_name": "Julia 1.7.0",
   "language": "julia",
   "name": "julia-1.7"
  },
  "language_info": {
   "file_extension": ".jl",
   "mimetype": "application/julia",
   "name": "julia",
   "version": "1.7.0"
  }
 },
 "nbformat": 4,
 "nbformat_minor": 5
}
