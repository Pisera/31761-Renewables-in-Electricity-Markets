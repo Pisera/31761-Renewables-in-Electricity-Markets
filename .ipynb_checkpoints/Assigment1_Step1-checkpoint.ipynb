{
 "cells": [
  {
   "cell_type": "markdown",
   "id": "b7b9f236",
   "metadata": {},
   "source": [
    "# Assigment 1, <font color='red'>Step 1</font> \n",
    "Please discard the whole transmission network, resulting in a cupper‐plate system. This means that all demands and all generation units are located in a single node. This assumption will be relaxed in future steps. Please also discard the information about reserve capacity of generators (it will be needed in Step 4).\n",
    "1. Assuming all 17 demands are inelastic to price, solve the market‐clearing optimization problem in Julia, and report market‐clearing outcomes, including the total production cost of the system, production quantity of each generator, and the market‐clearing price (under uniform pricing). In addition, please compute the profit (not revenue) of each conventional generator and that of each wind farm if the underlying pricing scheme is (a) uniform, (b) pay‐as‐bid, i.e., every one is paid based on what she bided.\n",
    "\n",
    "2. Now, let’s assume all demands are elastic to price. Please give arbitrarily selected values for their bid prices. Solve the market‐clearing optimization problem in Julia, and report market‐clearing outcomes. Ideally, tune bid price of demands in a way that a part of the whole demand (around 10%) will not be supplied. Please report the social welfare, production quantity of each generator, consumption quantity of each demand, the market‐clearing price (under uniform pricing), the profit (not revenue) of each conventional generator and each wind farm as well as the utility (not payment) of each demand if the underlying pricing scheme is (a) uniform, (b) pay‐as‐bid.\n",
    "\n",
    "2. The bid price of demands and the offer price of generators/farms are private information (these information are only available to the market operator). Assuming these information are public, discuss how each generator/farm/demand will change her offer/bid price to maximize her own profit/utility if the underlying pricing scheme is (a) uniform, (b) pay‐as‐bid."
   ]
  },
  {
   "cell_type": "code",
   "execution_count": 29,
   "id": "693fce53",
   "metadata": {},
   "outputs": [
    {
     "name": "stderr",
     "output_type": "stream",
     "text": [
      "\u001b[32m\u001b[1m   Resolving\u001b[22m\u001b[39m package versions...\n",
      "\u001b[32m\u001b[1m  No Changes\u001b[22m\u001b[39m to `~/.julia/environments/v1.7/Project.toml`\n",
      "\u001b[32m\u001b[1m  No Changes\u001b[22m\u001b[39m to `~/.julia/environments/v1.7/Manifest.toml`\n"
     ]
    }
   ],
   "source": [
    "using Pkg\n",
    "Pkg.add(\"NBInclude\")"
   ]
  },
  {
   "cell_type": "code",
   "execution_count": 32,
   "id": "869d63a0",
   "metadata": {},
   "outputs": [],
   "source": [
    "using NBInclude\n",
    "@nbinclude(\"Assigment1_Input_data.ipynb\");"
   ]
  },
  {
   "cell_type": "code",
   "execution_count": null,
   "id": "edf6fae0",
   "metadata": {},
   "outputs": [],
   "source": []
  }
 ],
 "metadata": {
  "kernelspec": {
   "display_name": "Julia 1.7.0",
   "language": "julia",
   "name": "julia-1.7"
  },
  "language_info": {
   "file_extension": ".jl",
   "mimetype": "application/julia",
   "name": "julia",
   "version": "1.7.0"
  }
 },
 "nbformat": 4,
 "nbformat_minor": 5
}
