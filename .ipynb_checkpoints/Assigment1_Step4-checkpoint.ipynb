{
 "cells": [
  {
   "cell_type": "markdown",
   "id": "9a8dbeab",
   "metadata": {},
   "source": [
    "# Assigment 1 Step 4\n",
    "\n",
    "**Framework:**\n",
    "* Please discard the network (cupper‐plate system). There is no intra‐day market. Demands in the day‐ahead market are inelastic to price.\n",
    "* Offer prices in the balancing stage are the same as those in Step 3. The only reserve and therefore balancing service providers are 12 conventional generators. The load curtailment cost is $500/MWh.\n",
    "* According to the TSO’ quantification, the upward reserve requirement in the reserve market is 200 MW and the downward reserve requirement is 120 MW.\n",
    "* In the real‐time operation, the actual wind power production of farms 1, 2 and 3 are 40% lower than their day‐ahead forecast, while that of farm 4 is 50% higher than her day‐ahead forecast.\n",
    "\n",
    "**Procedure:**\n",
    "1. Following European electricity markets, please clear the sequential reserve, day ahead energy and balancing markets.\n",
    "2. Under both 1‐ and 2‐price balancing schemes, please calculate the total revenue of each conventional generator and farm."
   ]
  },
  {
   "cell_type": "code",
   "execution_count": 76,
   "id": "0f7b4ec5",
   "metadata": {},
   "outputs": [],
   "source": [
    "# Import Data\n",
    "## Conventional Generators data\n",
    "Conventional_generators = [\n",
    "        1 2 7 13 15 15 16 18 21 22 23 23;\n",
    "        13.32 13.32 20.7 20.93 26.11 10.52 10.52 6.02 5.47 7 10.52 10.89;\n",
    "        1.68 1.68 3.30 4.07 1.89 5.48 5.48 4.98 5.53 8.00 3.45 5.11;\n",
    "        2.32 2.32 4.67 3.93 3.11 3.52 3.52 5.02 4.97 6.00 2.52 2.89;\n",
    "        106.4 106.4 245 413.7 42 108.5 108.5 280 280 210 217 245;\n",
    "        48 48 84 216 42 36 36 60 60 48 72 48;\n",
    "        48 48 84 216 42 36 36 60 60 48 72 48;\n",
    "    ]\n",
    "\n",
    "##  Wind Farms data\n",
    "Wind_farms = [\n",
    "    3 5 16 21;\n",
    "    500 500 300 300;\n",
    "    120.54 115.52 53.34 38.16;\n",
    "]\n",
    "\n",
    "## Demands data\n",
    "Demands = [\n",
    "    1   2   3   4   5   6 7 8 9 10 13 14 15 16 18 19 20;\n",
    "    84  75  139 58  55  106 97  132 135 150 205 150 245 77  258 141 100;\n",
    "    500 500 500 500 500 500 500 500 500 500 500 500 500 500 500 500 500;\n",
    "    ]\n",
    "\n",
    "## Transmission_lines Data\n",
    "Transmission_fir = [\n",
    "    1 1 1 2 2 3 3 4 5 6 7 8 8 9 9 10 10;\n",
    "    2 3 5 4 6 9 24 9 10 10 8 9 10 11 12 11 12;\n",
    "    0.0146 0.2253 0.0907 0.1356 0.205 0.1271 0.084 0.111 0.094 0.0642 0.0652 0.1762 0.1762 0.084 0.084 0.084 0.084;\n",
    "    175 175 350 175 175 175 400 175 350 175 350 175 175 400 400 400 400;\n",
    "]\n",
    "Transmission_sec =[\n",
    "    11 11 12 12 13 14 15 15 15 16 16 17 17 18 19 20 21;\n",
    "    13 14 13 23 23 16 16 21 24 17 19 18 22 21 20 23 22;\n",
    "    0.0488 0.0426 0.0488 0.0985 0.0884 0.0594 0.0172 0.0249 0.0529 0.0263 0.0234 0.0143 0.1069 0.0132 0.0203 0.0112 0.0692;\n",
    "    500 500 500 500 250 250 500 400 500 500 500 500 500 1000 1000 1000 500;\n",
    "]\n",
    "Transmission_lines = hcat(Transmission_fir, Transmission_sec)\n",
    "\n",
    "# Get number of elements connected to the grid from Data\n",
    "\n",
    "N_G = Int64.(size(Conventional_generators,2))       # number of Conventional_generators\n",
    "N_W = Int64.(size(Wind_farms,2))                    # number of Wind_farms\n",
    "N_D = Int64.(size(Demands,2))                               # number of Demands\n",
    "N_l = Int64.(size(Transmission_lines,2) )                   # number of Transmission_lines\n",
    "N_n = Int64.(findmax(Transmission_lines[1:2,:])[1]) # number of nodes\n",
    "N_a = 2                                             # number of zones\n",
    "\n",
    "## Get information from Input \n",
    "\n",
    "# conventional generators\n",
    "cg_location = Int64.(Conventional_generators[1,:])          # Node location of conventional generators [Node]\n",
    "cg_production_cost = Conventional_generators[2,:]       # Production cost of conventional generators [$/MWh]\n",
    "cg_upward_reserve_cost = Conventional_generators[3,:]   # Upward reserve cost of conventional generators [$/MWh]\n",
    "cg_downward_reserve_cost = Conventional_generators[4,:] # Downward reserve cost of conventional generators [$/MWh]\n",
    "cg_capacity = Conventional_generators[5,:]              # [MW]\n",
    "cg_max_upward_reserve_provision_capability = Conventional_generators[6,:]   # [MW]\n",
    "cg_max_downward_reserve_provision_capability = Conventional_generators[7,:] # [MW]\n",
    "\n",
    "# wind farm\n",
    "wf_location = Int64.(Wind_farms[1,:])       # [Node]\n",
    "wf_installed_capacity = Wind_farms[2,:] # [MW]\n",
    "wf_day_ahead_forecast = Wind_farms[3,:] # [MWh]\n",
    "\n",
    "# demands\n",
    "d_location = Int64.(Demands[1,:])    # [Node]\n",
    "d_consumption = Demands[2,:]         # [MWh]\n",
    "d_curtaliment_cost = Demands[3,:]    # [$/MWh]\n",
    "\n",
    "# transmission lines\n",
    "tl_from_node = Transmission_lines[1,:]\n",
    "tl_to_node = Transmission_lines[2,:]\n",
    "tl_impedance = Transmission_lines[3,:]\n",
    "tl_capacity = Transmission_lines[4,:]\n",
    "tl_susceptance = 1 ./ Transmission_lines[3,:];"
   ]
  },
  {
   "cell_type": "markdown",
   "id": "6de3d95f",
   "metadata": {},
   "source": [
    "## 1. Reserve, day ahead energy and balancing markets sequence clearing.\n",
    "\n",
    "### 1.1 Reserve market clearing\n",
    "#### 1.1.1 Reserve market Input "
   ]
  },
  {
   "cell_type": "code",
   "execution_count": 77,
   "id": "de23368d",
   "metadata": {},
   "outputs": [],
   "source": [
    "Pℛ_up = 200 # [MW] upward reserve requirements\n",
    "Pℛ_down = 120 # [MW] downward reserve requirements\n",
    "\n",
    "Cℛ_up = cg_upward_reserve_cost' # [$/MWh] Offer price for upward reserve capacity provision\n",
    "Cℛ_down = cg_downward_reserve_cost' # [$/MWh] Offer price for downward reserve capacity provision\n",
    "\n",
    "R̲ᴳ_down = zeros(N_G)\n",
    "R̲ᴳ_up = zeros(N_G)\n",
    "\n",
    "R̅ᴳ_down = cg_max_downward_reserve_provision_capability\n",
    "R̅ᴳ_up = cg_max_downward_reserve_provision_capability;"
   ]
  },
  {
   "cell_type": "markdown",
   "id": "53746a7c",
   "metadata": {},
   "source": [
    "#### 1.1.2 Reserve market clearing resolution"
   ]
  },
  {
   "cell_type": "code",
   "execution_count": 78,
   "id": "d5b25d48",
   "metadata": {},
   "outputs": [
    {
     "name": "stdout",
     "output_type": "stream",
     "text": [
      "solve_time(reserve_model) = 5.4836273193359375e-5\n",
      "termination_status(reserve_model) = MathOptInterface.OPTIMAL\n",
      "primal_status(reserve_model) = MathOptInterface.FEASIBLE_POINT\n",
      "dual_status(reserve_model) = MathOptInterface.FEASIBLE_POINT\n",
      "objective_value(reserve_model) = 728.46\n",
      "value.(rᴳ_up) = [48.0, 48.0, 62.0, 0.0, 42.0, 0.0, 0.0, 0.0, 0.0, 0.0, 0.0, 0.0]\n",
      "value.(rᴳ_down) = [48.0, 48.0, 0.0, 0.0, 0.0, 0.0, 0.0, 0.0, 0.0, 0.0, 24.0, 0.0]\n",
      "abs(shadow_price(bal_con_down)) = 2.52\n",
      "abs(shadow_price(bal_con_up)) = 3.3\n"
     ]
    }
   ],
   "source": [
    "using JuMP\n",
    "using GLPK\n",
    "\n",
    "# Optimization problem\n",
    "reserve_model = Model(GLPK.Optimizer)\n",
    "\n",
    "@variable(reserve_model, rᴳ_up[1:N_G])\n",
    "@variable(reserve_model, rᴳ_down[1:N_G])\n",
    "\n",
    "@constraint(reserve_model,   cg_r_up_con[i=1:N_G], R̲ᴳ_up[i]   <= rᴳ_up[i]   <= R̅ᴳ_up[i])\n",
    "@constraint(reserve_model, cg_r_down_con[i=1:N_G], R̲ᴳ_down[i] <= rᴳ_down[i] <= R̅ᴳ_down[i])\n",
    "\n",
    "@constraint(reserve_model, bal_con_down, sum(rᴳ_down) .== Pℛ_down)\n",
    "@constraint(reserve_model, bal_con_up, sum(rᴳ_up) .== Pℛ_up)\n",
    "\n",
    "@objective(reserve_model, Min, Cℛ_down * rᴳ_down + Cℛ_up * rᴳ_up)\n",
    "\n",
    "#print(reserve_model)\n",
    "optimize!(reserve_model)\n",
    "@show solve_time(reserve_model)\n",
    "@show termination_status(reserve_model)\n",
    "@show primal_status(reserve_model)\n",
    "@show dual_status(reserve_model)\n",
    "@show objective_value(reserve_model)\n",
    "@show value.(rᴳ_up)\n",
    "@show value.(rᴳ_down)\n",
    "@show abs(shadow_price(bal_con_down))\n",
    "@show abs(shadow_price(bal_con_up));"
   ]
  },
  {
   "cell_type": "markdown",
   "id": "6b9658a0",
   "metadata": {},
   "source": [
    "#### 1.1.3 Reserve market results"
   ]
  },
  {
   "cell_type": "code",
   "execution_count": 79,
   "id": "2c42c6e3",
   "metadata": {},
   "outputs": [],
   "source": [
    "λ_down_ℛ = abs(shadow_price(bal_con_down)) # Market Clearing Price\n",
    "λ_up_ℛ = abs(shadow_price(bal_con_up)); # Market Clearing Price\n",
    "\n",
    "rᴳ_down_ℛ = value.(rᴳ_down) # p\\scrD\\scrA\\^G\n",
    "rᴳ_up_ℛ = value.(rᴳ_up);"
   ]
  },
  {
   "cell_type": "markdown",
   "id": "1d0fb054",
   "metadata": {},
   "source": [
    "#### 1.1.4 Reserve market revenues "
   ]
  },
  {
   "cell_type": "code",
   "execution_count": 80,
   "id": "193c2144",
   "metadata": {},
   "outputs": [],
   "source": [
    "Rᴳ_ℛ = rᴳ_down_ℛ * λ_down_ℛ + rᴳ_up_ℛ * λ_up_ℛ;"
   ]
  },
  {
   "cell_type": "markdown",
   "id": "abb5255d",
   "metadata": {},
   "source": [
    "### 1.2 Day-ahead market clearing\n",
    "#### 1.2.1 Day-ahead market Input "
   ]
  },
  {
   "cell_type": "code",
   "execution_count": 81,
   "id": "a020478a",
   "metadata": {},
   "outputs": [],
   "source": [
    "# cost parameters\n",
    "C = (cg_capacity/2)'\n",
    "T = zeros(4)'\n",
    "\n",
    "# variable constraints parameters\n",
    "P̅ᴳ = cg_capacity\n",
    "P̲ᴳ = zeros(N_G)\n",
    "P̅ᵂ = wf_day_ahead_forecast\n",
    "P̲ᵂ = zeros(N_W)\n",
    "\n",
    "# reserve capacity\n",
    "rᴳ_down_ℛ\n",
    "rᴳ_up_ℛ\n",
    "\n",
    "# inelastic demands parameters\n",
    "pᴰ= Demands[2,:]; "
   ]
  },
  {
   "cell_type": "markdown",
   "id": "e59b6d1b",
   "metadata": {},
   "source": [
    "#### 1.2.2 Day-ahead market General Model"
   ]
  },
  {
   "cell_type": "code",
   "execution_count": 82,
   "id": "c1733bcf",
   "metadata": {
    "scrolled": true
   },
   "outputs": [
    {
     "name": "stdout",
     "output_type": "stream",
     "text": [
      "solve_time(reserve_model) = 5.4836273193359375e-5\n",
      "termination_status(inelastic_model) = MathOptInterface.OPTIMAL\n",
      "primal_status(inelastic_model) = MathOptInterface.FEASIBLE_POINT\n",
      "dual_status(inelastic_model) = MathOptInterface.FEASIBLE_POINT\n",
      "objective_value(inelastic_model) = 221433.39400000003\n",
      "value.(pᴳ) = [58.400000000000006, 58.400000000000006, 183.0, 130.6400000000001, 0.0, 108.5, 108.5, 280.0, 280.0, 210.0, 217.0, 245.0]\n",
      "value.(pᵂ) = [120.54, 115.52, 53.34, 38.16]\n",
      "abs(shadow_price(balance_con)) = 206.85\n"
     ]
    }
   ],
   "source": [
    "using JuMP\n",
    "using GLPK\n",
    "\n",
    "inelastic_model = Model(GLPK.Optimizer)\n",
    "\n",
    "@variable(inelastic_model, pᴳ[1:N_G])\n",
    "@variable(inelastic_model, pᵂ[1:N_W])\n",
    "\n",
    "@constraint(inelastic_model, cg_con[i=1:N_G], P̲ᴳ[i] + rᴳ_down_ℛ[i] <= pᴳ[i] <= P̅ᴳ[i] - rᴳ_up_ℛ[i])\n",
    "@constraint(inelastic_model, wt_con[i=1:N_W], P̲ᵂ[i] <= pᵂ[i] <= P̅ᵂ[i])\n",
    "\n",
    "@constraint(inelastic_model, balance_con, + sum(pᴰ) - sum(pᴳ) - sum(pᵂ) .== 0)\n",
    "\n",
    "@objective(inelastic_model, Min, T*pᵂ + C*pᴳ)\n",
    "\n",
    "#print(inelastic_model)\n",
    "optimize!(inelastic_model)\n",
    "@show solve_time(reserve_model)\n",
    "@show termination_status(inelastic_model)\n",
    "@show primal_status(inelastic_model)\n",
    "@show dual_status(inelastic_model)\n",
    "@show objective_value(inelastic_model)\n",
    "@show value.(pᴳ)\n",
    "@show value.(pᵂ)\n",
    "@show abs(shadow_price(balance_con));"
   ]
  },
  {
   "cell_type": "markdown",
   "id": "28a29133",
   "metadata": {},
   "source": [
    "#### 1.2.3 Day-ahead market results"
   ]
  },
  {
   "cell_type": "code",
   "execution_count": 83,
   "id": "f7846763",
   "metadata": {},
   "outputs": [],
   "source": [
    "λ_𝒟𝒜 = abs(shadow_price(balance_con)) # Market Clearing Price\n",
    "\n",
    "pᴳ_𝒟𝒜 = value.(pᴳ) # p\\scrD\\scrA\\^G\n",
    "pᵂ_𝒟𝒜 = value.(pᵂ)\n",
    "pᴰ_𝒟𝒜 = value.(pᴰ);"
   ]
  },
  {
   "cell_type": "markdown",
   "id": "fc2e1592",
   "metadata": {},
   "source": [
    "#### 1.2.4 Day-ahead market revenues"
   ]
  },
  {
   "cell_type": "code",
   "execution_count": 84,
   "id": "289a0ac4",
   "metadata": {},
   "outputs": [
    {
     "data": {
      "text/plain": [
       "4-element Vector{Float64}:\n",
       " 24933.699\n",
       " 23895.311999999998\n",
       " 11033.379\n",
       "  7893.395999999999"
      ]
     },
     "execution_count": 84,
     "metadata": {},
     "output_type": "execute_result"
    }
   ],
   "source": [
    "Rᴳ_𝒟𝒜 = pᴳ_𝒟𝒜 * λ_𝒟𝒜 # Revenue of conventional generators\n",
    "\n",
    "Rᵂ_𝒟𝒜 = pᵂ_𝒟𝒜 * λ_𝒟𝒜 # Revenue of wind farms"
   ]
  },
  {
   "cell_type": "markdown",
   "id": "0747ce20",
   "metadata": {},
   "source": [
    "### 1.3 Real-time Operation\n",
    "In the real‐time operation, the actual wind power production of farms 1, 2 and 3 are 40% lower than their day‐ahead forecast, while that of farm 4 is 50% higher than her day‐ahead forecast."
   ]
  },
  {
   "cell_type": "code",
   "execution_count": 93,
   "id": "62e7b577",
   "metadata": {},
   "outputs": [
    {
     "data": {
      "text/plain": [
       "4-element Vector{Float64}:\n",
       " 72.324\n",
       " 69.312\n",
       " 32.004\n",
       " 57.239999999999995"
      ]
     },
     "execution_count": 93,
     "metadata": {},
     "output_type": "execute_result"
    }
   ],
   "source": [
    "## Actual prodution in real-time\n",
    "pᴳ_𝒜 = copy(value.(pᴳ))\n",
    "pᵂ_𝒜 = copy(value.(pᵂ))\n",
    "pᴰ_𝒜 = copy(value.(pᴰ))\n",
    "\n",
    "# The actual production of wind farms 1,2 and 3 is 40% lower than their day‐ahead forecast\n",
    "pᵂ_𝒜[1:3] = copy(P̅ᵂ[1:3]) * 0.6 \n",
    "\n",
    "# The actual production of wind farms 4 is 50% higher than their day‐ahead forecast\n",
    "pᵂ_𝒜[4] = copy(P̅ᵂ[4]) * 1.5; \n",
    "\n",
    "# need balance\n",
    "ΔP = - sum(pᴳ_𝒜 - pᴳ_𝒟𝒜) - sum(pᵂ_𝒜 - pᵂ_𝒟𝒜) + sum(pᴰ_𝒜 - pᴰ_𝒟𝒜);\n",
    "pᵂ_𝒜 "
   ]
  },
  {
   "cell_type": "code",
   "execution_count": 94,
   "id": "a9e2fa4a",
   "metadata": {},
   "outputs": [
    {
     "data": {
      "text/plain": [
       "4-element Vector{Float64}:\n",
       " 120.54\n",
       " 115.52\n",
       "  53.34\n",
       "  38.16"
      ]
     },
     "execution_count": 94,
     "metadata": {},
     "output_type": "execute_result"
    }
   ],
   "source": [
    "copy(value.(pᵂ))"
   ]
  },
  {
   "cell_type": "markdown",
   "id": "462a7f0d",
   "metadata": {},
   "source": [
    "### 1.4 Balancing Market clearing\n",
    "#### 1.4.1 Balancing market Input\n",
    "Offer prices in the balancing stage are the same as those in Step 3. \n",
    "The only reserve and therefore balancing service providers are 12 conventional generators. \n",
    "The load curtailment cost is $500/MWh."
   ]
  },
  {
   "cell_type": "code",
   "execution_count": 86,
   "id": "933db203",
   "metadata": {},
   "outputs": [],
   "source": [
    "Cᴳ_up = C + cg_production_cost' * 0.1  # upward balancing cost \n",
    "Cᴳ_down = C - cg_production_cost' * 0.12 # downward balancing cost\n",
    "Cᴰ_up = d_curtaliment_cost' # demand curtailment cost\n",
    "\n",
    "P̅ᴳ_up = copy(rᴳ_up_ℛ)\n",
    "P̅ᴳ_down = copy(rᴳ_down_ℛ)\n",
    "\n",
    "P̲ᴳ_up = zeros(N_G)\n",
    "P̲ᴳ_down = zeros(N_G)\n",
    "\n",
    "P̅ᴰ_up = copy(pᴰ_𝒜)\n",
    "P̲ᴰ_up = zeros(N_D);"
   ]
  },
  {
   "cell_type": "markdown",
   "id": "7e42b398",
   "metadata": {},
   "source": [
    "#### 1.4.2 Balancing market General Model"
   ]
  },
  {
   "cell_type": "code",
   "execution_count": 87,
   "id": "01153c07",
   "metadata": {},
   "outputs": [
    {
     "name": "stdout",
     "output_type": "stream",
     "text": [
      "solve_time(bal_mrkt_model) = 7.200241088867188e-5\n",
      "termination_status(bal_mrkt_model) = MathOptInterface.OPTIMAL\n",
      "primal_status(bal_mrkt_model) = MathOptInterface.FEASIBLE_POINT\n",
      "dual_status(bal_mrkt_model) = MathOptInterface.FEASIBLE_POINT\n",
      "objective_value(bal_mrkt_model) = 2708.537360000001\n",
      "value.(pᴳ_up) = [30.68000000000002, 48.0, 0.0, 0.0, 42.0, 0.0, 0.0, 0.0, 0.0, 0.0, 0.0, 0.0]\n",
      "value.(pᴳ_down) = [0.0, 0.0, 0.0, 0.0, 0.0, 0.0, 0.0, 0.0, 0.0, 0.0, 24.0, 0.0]\n",
      "value.(pᴰ_up) = [0.0, 0.0, 0.0, 0.0, 0.0, 0.0, 0.0, 0.0, 0.0, 0.0, 0.0, 0.0, 0.0, 0.0, 0.0, 0.0, 0.0]\n",
      "abs(shadow_price(balance_bal_con)) = 54.532000000000004\n"
     ]
    }
   ],
   "source": [
    "bal_mrkt_model = Model(GLPK.Optimizer)\n",
    "\n",
    "@variable(bal_mrkt_model, pᴳ_up[1:N_G])\n",
    "@variable(bal_mrkt_model, pᴳ_down[1:N_G])\n",
    "@variable(bal_mrkt_model, pᴰ_up[1:N_D])\n",
    "\n",
    "@constraint(bal_mrkt_model, cg_p_up_con[i=1:N_G], P̲ᴳ_up[i]   <= pᴳ_up[i]   <= P̅ᴳ_up[i])\n",
    "@constraint(bal_mrkt_model, cg_p_down_con[i=1:N_G], P̲ᴳ_down[i] <= pᴳ_down[i] <= P̅ᴳ_down[i])\n",
    "@constraint(bal_mrkt_model, d_p_up_con[i=1:N_D], P̲ᴰ_up[i] <= pᴰ_up[i] <= P̅ᴰ_up[i])\n",
    "\n",
    "@constraint(bal_mrkt_model, balance_bal_con, sum(pᴰ_up) + sum(pᴳ_up) - sum(pᴳ_down) .== ΔP)\n",
    "\n",
    "@objective(bal_mrkt_model, Min, + Cᴳ_up * pᴳ_up - Cᴳ_down * pᴳ_down + Cᴰ_up * pᴰ_up) \n",
    "\n",
    "optimize!(bal_mrkt_model)\n",
    "@show solve_time(bal_mrkt_model)\n",
    "@show termination_status(bal_mrkt_model)\n",
    "@show primal_status(bal_mrkt_model)\n",
    "@show dual_status(bal_mrkt_model)\n",
    "@show objective_value(bal_mrkt_model)\n",
    "@show value.(pᴳ_up)\n",
    "@show value.(pᴳ_down)\n",
    "@show value.(pᴰ_up)\n",
    "@show abs(shadow_price(balance_bal_con));"
   ]
  },
  {
   "cell_type": "markdown",
   "id": "771d8b8b",
   "metadata": {},
   "source": [
    "#### 1.4.3 Balancing market Results"
   ]
  },
  {
   "cell_type": "code",
   "execution_count": 88,
   "id": "a63edfe5",
   "metadata": {},
   "outputs": [],
   "source": [
    "λ_ℬ = abs(shadow_price(balance_bal_con)) # Market Clearing Price\n",
    "\n",
    "pᴳ_up_ℬ = value.(pᴳ_up) # p\\scrD\\scrA\\^G\n",
    "pᴳ_down_ℬ = value.(pᴳ_down)\n",
    "pᴰ_up_ℬ = value.(pᴰ_up);"
   ]
  },
  {
   "cell_type": "markdown",
   "id": "08a36008",
   "metadata": {},
   "source": [
    "#### 1.4.4 Balancing market Revenues"
   ]
  },
  {
   "cell_type": "code",
   "execution_count": 137,
   "id": "5b5138e5",
   "metadata": {},
   "outputs": [
    {
     "data": {
      "text/plain": [
       "4-element Vector{Float64}:\n",
       " -2629.3149120000007\n",
       " -2519.814656\n",
       " -1163.4947520000003\n",
       "  3946.6979999999994"
      ]
     },
     "execution_count": 137,
     "metadata": {},
     "output_type": "execute_result"
    }
   ],
   "source": [
    "# Total Profit in Balancing\n",
    "\n",
    "## From balancing service providers side:\n",
    "## BSP - Balancing Services Provider\n",
    "BSP_Rᴳ_ℬ = (pᴳ_up_ℬ - pᴳ_down_ℬ) * λ_ℬ \n",
    "BSP_Rᴰ_ℬ = pᴰ_up_ℬ * λ_ℬ \n",
    "\n",
    "## From the side of agents who caused the imbalance:\n",
    "### if  balancing settlement is One-Price\n",
    "### IA_op - Imbalance Agent one price\n",
    "IA_op_Rᴳ_ℬ = (pᴳ_𝒜 - pᴳ_𝒟𝒜) * λ_ℬ \n",
    "IA_op_Rᵂ_ℬ = (pᵂ_𝒜 - pᵂ_𝒟𝒜) * λ_ℬ \n",
    "\n",
    "### if  balancing settlement is Two-Price\n",
    "### IA_tp - Imbalance Agent two price\n",
    "IA_tp_Rᴳ_ℬ = zeros(N_G)\n",
    "for i in 1:N_G\n",
    "    if pᴳ_𝒜[i] - pᴳ_𝒟𝒜[i] > 0\n",
    "        IA_tp_Rᴳ_ℬ[i] = (pᴳ_𝒜[i] - pᴳ_𝒟𝒜[i]) * λ_𝒟𝒜\n",
    "    else \n",
    "        IA_tp_Rᴳ_ℬ[i] = (pᴳ_𝒜[i] - pᴳ_𝒟𝒜[i]) * λ_ℬ \n",
    "    end\n",
    "end\n",
    "\n",
    "IA_tp_Rᵂ_ℬ = zeros(N_W)\n",
    "for i in 1:N_W\n",
    "    if (pᵂ_𝒜[i] - pᵂ_𝒟𝒜[i]) > 0 \n",
    "        IA_tp_Rᵂ_ℬ[i] = (pᵂ_𝒜[i] - pᵂ_𝒟𝒜[i]) * λ_𝒟𝒜\n",
    "    else\n",
    "        IA_tp_Rᵂ_ℬ[i] = (pᵂ_𝒜[i] - pᵂ_𝒟𝒜[i]) * λ_ℬ \n",
    "    end\n",
    "end\n",
    "\n",
    "## Total Revenue if balancing settlement is One-Price\n",
    "Rᴳ_ℬ_op = BSP_Rᴳ_ℬ + IA_op_Rᴳ_ℬ\n",
    "Rᵂ_ℬ_op = IA_op_Rᵂ_ℬ\n",
    "\n",
    "## Total Revenue if balancing settlement is Two-Price\n",
    "Rᴳ_ℬ_tp = BSP_Rᴳ_ℬ + IA_tp_Rᴳ_ℬ\n",
    "Rᵂ_ℬ_tp = IA_tp_Rᵂ_ℬ"
   ]
  },
  {
   "cell_type": "markdown",
   "id": "468a49b3",
   "metadata": {},
   "source": [
    "## 2. Calculate the total revenues \n",
    "Under both 1‐ and 2‐price balancing schemes, please calculate the total revenue of each conventional generator and farm.\n",
    "### 2.1 Total revenues under One-Price balancing scheme"
   ]
  },
  {
   "cell_type": "code",
   "execution_count": 140,
   "id": "eda4df50",
   "metadata": {},
   "outputs": [
    {
     "data": {
      "text/plain": [
       "4-element Vector{Float64}:\n",
       " 22304.384088\n",
       " 21375.497344\n",
       "  9869.884248\n",
       "  8933.866559999999"
      ]
     },
     "execution_count": 140,
     "metadata": {},
     "output_type": "execute_result"
    }
   ],
   "source": [
    "Rᴳ_tot_op = Rᴳ_ℛ + Rᴳ_𝒟𝒜 + Rᴳ_ℬ_op\n",
    "Rᵂ_tot_op = Rᵂ_𝒟𝒜 + Rᵂ_ℬ_op"
   ]
  },
  {
   "cell_type": "markdown",
   "id": "cd889979",
   "metadata": {},
   "source": [
    "### 2.2 Total revenues under Two-Price balancing scheme"
   ]
  },
  {
   "cell_type": "code",
   "execution_count": 141,
   "id": "691cd81a",
   "metadata": {},
   "outputs": [
    {
     "data": {
      "text/plain": [
       "4-element Vector{Float64}:\n",
       " 22304.384088\n",
       " 21375.497344\n",
       "  9869.884248\n",
       " 11840.093999999997"
      ]
     },
     "execution_count": 141,
     "metadata": {},
     "output_type": "execute_result"
    }
   ],
   "source": [
    "Rᴳ_tot_tp = Rᴳ_ℛ + Rᴳ_𝒟𝒜 + Rᴳ_ℬ_tp\n",
    "Rᵂ_tot_tp = Rᵂ_𝒟𝒜 + Rᵂ_ℬ_tp"
   ]
  }
 ],
 "metadata": {
  "kernelspec": {
   "display_name": "Julia 1.7.0",
   "language": "julia",
   "name": "julia-1.7"
  },
  "language_info": {
   "file_extension": ".jl",
   "mimetype": "application/julia",
   "name": "julia",
   "version": "1.7.0"
  }
 },
 "nbformat": 4,
 "nbformat_minor": 5
}
