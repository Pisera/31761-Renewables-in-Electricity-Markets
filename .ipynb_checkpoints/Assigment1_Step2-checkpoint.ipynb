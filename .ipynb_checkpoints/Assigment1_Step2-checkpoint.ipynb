{
 "cells": [
  {
   "cell_type": "markdown",
   "id": "8122ab7a",
   "metadata": {},
   "source": [
    "# Assigment 1, $\\color{red}{\\text{Step 2}}$ \n",
    "* Accounting for a nodal system, clear the day‐ahead market and report all 24 nodal prices. Are they all identical? Why?\n",
    "* Consider two zones, namely Zone 1 (incl. nodes 1 to 13) and Zone 2 (incl. nodes 14 to 24). Assume that the ATC limit between two zones is symmetric, and its value is equal to the summation of capacity of all transmission lines connecting these two zones. Clear the zonal day‐ahead market and report the two zonal prices. Are they identical? Why? Please vary the value of ATC, and find at which value of ATC, these two prices become equal (or unequal).\n",
    "* Compare the profit of generators and wind farms under nodal, zonal (congested) and no‐network (step1, uniform) schemes."
   ]
  },
  {
   "cell_type": "code",
   "execution_count": null,
   "id": "2261a050",
   "metadata": {},
   "outputs": [],
   "source": []
  }
 ],
 "metadata": {
  "kernelspec": {
   "display_name": "Julia 1.7.0",
   "language": "julia",
   "name": "julia-1.7"
  },
  "language_info": {
   "file_extension": ".jl",
   "mimetype": "application/julia",
   "name": "julia",
   "version": "1.7.0"
  }
 },
 "nbformat": 4,
 "nbformat_minor": 5
}
