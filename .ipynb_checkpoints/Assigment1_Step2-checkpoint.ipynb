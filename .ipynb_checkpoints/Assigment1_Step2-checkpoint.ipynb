{
 "cells": [
  {
   "cell_type": "markdown",
   "id": "8122ab7a",
   "metadata": {},
   "source": [
    "# Assigment 1, $\\color{red}{\\text{Step 2}}$ \n",
    "* Accounting for a nodal system, clear the day‐ahead market and report all 24 nodal prices. Are they all identical? Why?\n",
    "* Consider two zones, namely Zone 1 (incl. nodes 1 to 13) and Zone 2 (incl. nodes 14 to 24). Assume that the ATC limit between two zones is symmetric, and its value is equal to the summation of capacity of all transmission lines connecting these two zones. Clear the zonal day‐ahead market and report the two zonal prices. Are they identical? Why? Please vary the value of ATC, and find at which value of ATC, these two prices become equal (or unequal).\n",
    "* Compare the profit of generators and wind farms under nodal, zonal (congested) and no‐network (step1, uniform) schemes."
   ]
  },
  {
   "cell_type": "code",
   "execution_count": 3,
   "id": "2261a050",
   "metadata": {},
   "outputs": [
    {
     "name": "stderr",
     "output_type": "stream",
     "text": [
      "\u001b[32m\u001b[1m   Resolving\u001b[22m\u001b[39m package versions...\n",
      "\u001b[32m\u001b[1m  No Changes\u001b[22m\u001b[39m to `~/.julia/environments/v1.7/Project.toml`\n",
      "\u001b[32m\u001b[1m  No Changes\u001b[22m\u001b[39m to `~/.julia/environments/v1.7/Manifest.toml`\n",
      "\u001b[32m\u001b[1m   Resolving\u001b[22m\u001b[39m package versions...\n",
      "\u001b[32m\u001b[1m  No Changes\u001b[22m\u001b[39m to `~/.julia/environments/v1.7/Project.toml`\n",
      "\u001b[32m\u001b[1m  No Changes\u001b[22m\u001b[39m to `~/.julia/environments/v1.7/Manifest.toml`\n",
      "\u001b[32m\u001b[1m   Resolving\u001b[22m\u001b[39m package versions...\n",
      "\u001b[32m\u001b[1m  No Changes\u001b[22m\u001b[39m to `~/.julia/environments/v1.7/Project.toml`\n",
      "\u001b[32m\u001b[1m  No Changes\u001b[22m\u001b[39m to `~/.julia/environments/v1.7/Manifest.toml`\n"
     ]
    }
   ],
   "source": [
    "using Pkg\n",
    "Pkg.add(\"NBInclude\");\n",
    "Pkg.add(\"JuMP\");\n",
    "Pkg.add(\"GLPK\");"
   ]
  },
  {
   "cell_type": "code",
   "execution_count": 42,
   "id": "7d3163cb",
   "metadata": {},
   "outputs": [],
   "source": [
    "using NBInclude\n",
    "@nbinclude(\"Assigment1_Input_data.ipynb\"); # Inport Data\n",
    "@nbinclude(\"Assigment1_Functions.ipynb\"); # inport Functions"
   ]
  },
  {
   "cell_type": "markdown",
   "id": "10a258af",
   "metadata": {},
   "source": [
    "# 1. MCOP Nodal Price\n",
    "### model\n",
    "\n",
    "\\begin{aligned}\n",
    "\\max_{p^{G}_g,p^{W}_w,p^{D}_d, \\theta_n} \\quad & SW = \\sum_{d=1}^{N_{D}}{U_{d} p^{D}_d} - \\sum_{g=1}^{N_{G}}{C_{g}p^{G}_g} - \\sum_{w=1}^{N_{W}}{T_{w} p^{W}_w}\\\\\n",
    "\\textrm{s.t.} \\quad & 0 \\geq p^{D}_{d} \\geq \\bar{P^{D}_{d}} \\quad \\quad \\forall d\\\\\n",
    "  & 0 \\geq p^{G}_{g} \\geq \\bar{P^{G}_{g}} \\quad \\quad \\forall g \\\\\n",
    "  & 0 \\geq p^{W}_{w} \\geq \\bar{P^{W}_{w}} \\quad \\quad \\forall w \\\\\n",
    "  & \\sum_{d \\in \\Psi_n}^{}{p^{D}_d} - \\sum_{g \\in \\Psi_n}^{}{p^{G}_g} - \\sum_{w \\in \\Psi_n}^{}{p^{W}_w} = 0 \\quad :\\lambda_{n} \\forall n \\\\\n",
    "\\end{aligned}\n",
    "\n",
    "$U_{d}:$ bid price of demand $d$ $[€/MWh]$\n",
    "\n",
    "$C_{g}:$ offer price of conventional generators $g$ $[€/MWh]$\n",
    "\n",
    "$T_{w}:$ offer price of wind turbines $w$ $[€/MWh]$\n",
    "\n",
    "#### Matrix model\n",
    "\n",
    "$U:$ row vector of bid price of demand $(N_{d} x 1)$\n",
    "\n",
    "$C:$ row vector of offer price of generators $(N_{g} x 1)$\n",
    "\n",
    "$T:$ row vector of offer price of wind turbines $(N_{w} x 1)$\n",
    "\n",
    "P_dem_max: column vector of maximum load of demands $(1 x N_{d})$\n",
    "\n",
    "P_gen_max: column vector of maximum capacity of conventional generators $(1 x N_{g})$\n",
    "\n",
    "P_win_max: column vector of maximum generation of wind turbines (wind turbines forecasting) $(1 x N_{w})$"
   ]
  },
  {
   "cell_type": "code",
   "execution_count": 29,
   "id": "981fb561",
   "metadata": {},
   "outputs": [],
   "source": [
    "(d,g,w) = getelmcxt(Demands, Conventional_generators, Wind_farms, N_n)\n",
    "(Ωₙ,Ω_idx) = getbuscxn(Transmission_lines,N_n);\n",
    "\n",
    "## Matrice delle suscettanze\n",
    "B = zeros((N_n, N_n))\n",
    "for i = 1:N_n\n",
    "    (N_c,) = size(Ωₙ[i])\n",
    "    for j in 1:N_c\n",
    "        col = Ωₙ[i][j]\n",
    "        B[i,col] = tl_susceptance[Ω_idx[i][j]]\n",
    "    end\n",
    "end\n",
    "\n",
    "## Matrice flusso max\n",
    "F = zeros((N_n, N_n))\n",
    "for i in 1:N_l\n",
    "    a = Int8.(Transmission_lines[1,i]) \n",
    "    b = Int8.(Transmission_lines[2,i])\n",
    "    c = copy(Transmission_lines[4,i])\n",
    "    F[a,b] = c\n",
    "    F[b,a] = c\n",
    "end\n",
    "\n",
    "# variable constraints parameters\n",
    "P̅ᴳ = cg_capacity\n",
    "P̲ᴳ = zeros(N_G)\n",
    "P̅ᵂ = wf_day_ahead_forecast\n",
    "P̲ᵂ = zeros(N_W)\n",
    "\n",
    "# cost parameters\n",
    "C = (cg_capacity/2)'\n",
    "T = zeros(4)'\n",
    "U = (d_consumption + ones(N_D) * 60)' \n",
    "\n",
    "# inelastic demands parameters\n",
    "P̅ᴰ = d_consumption # Demends elastic price\n",
    "P̲ᴰ = zeros(N_D);"
   ]
  },
  {
   "cell_type": "code",
   "execution_count": 30,
   "id": "dd6cec8d",
   "metadata": {},
   "outputs": [
    {
     "name": "stdout",
     "output_type": "stream",
     "text": [
      "termination_status(nodal_model) = MathOptInterface.OPTIMAL\n",
      "primal_status(nodal_model) = MathOptInterface.FEASIBLE_POINT\n",
      "dual_status(nodal_model) = MathOptInterface.FEASIBLE_POINT\n",
      "objective_value(nodal_model) = 281501.69000000006\n",
      "value.(pᴳ) = [106.4, 106.4, 245.0, 0.0, 42.0, 108.5, 108.5, 0.0, 225.64000000000036, 210.0, 217.0, 245.0]\n",
      "value.(pᵂ) = [120.54, 115.52, 53.34, 38.16]\n",
      "value.(pᴰ) = [84.0, 0.0, 139.0, 0.0, 0.0, 106.0, 97.0, 132.0000000000001, 135.0000000000004, 150.0, 205.0, 150.0, 245.0, 0.0, 258.0, 141.0, 100.0]\n",
      "value.(Θ) = [1.975092499774606e-14, -0.02757830274253277, -4.234113430429494, -5.667969011779583, -0.15580907426940674, -13.699668549787425, 0.3285649721556877, -9.321035027844312, -10.28510299926566, -11.176167056422948, -9.648350612149295, -7.5345842431944865, -9.71116599067106, -8.495770254347208, 2.2378171189227944, 2.021348836109231, 3.637214485655356, 3.137272261406016, 0.6452124592570988, 2.3136847477144364, 6.081387131329702, 13.942455007078339, 4.3542211827253805, -0.2630238311191052]\n"
     ]
    }
   ],
   "source": [
    "using JuMP\n",
    "using GLPK\n",
    "\n",
    "nodal_model = Model(GLPK.Optimizer)\n",
    "\n",
    "@variable(nodal_model, pᴳ[1:N_G])\n",
    "@variable(nodal_model, pᵂ[1:N_W])\n",
    "@variable(nodal_model, pᴰ[1:N_D])\n",
    "@variable(nodal_model, Θ[1:N_n])\n",
    "\n",
    "@constraint(nodal_model, cg_con[i=1:N_G], P̲ᴳ[i] <= pᴳ[i] <= P̅ᴳ[i])\n",
    "@constraint(nodal_model, wt_con[i=1:N_W], P̲ᵂ[i] <= pᵂ[i] <= P̅ᵂ[i])\n",
    "@constraint(nodal_model, dem_con[i=1:N_D], P̲ᴰ[i] <= pᴰ[i] <= P̅ᴰ[i])\n",
    "\n",
    "\n",
    "#Vincolo power balance\n",
    "## pf from m to n\n",
    "pf = @expression(nodal_model,[i=1:N_n, j=1:N_n], B[i,j]*(Θ[i]-Θ[j]))\n",
    "## vincolo\n",
    "@constraint(nodal_model, bal_con[i=1:N_n], \n",
    "    sum(pᴰ[d[i]]) + sum(pf[i,:]) - sum(pᴳ[g[i]]) - sum(pᵂ[w[i]]) .== 0);\n",
    "\n",
    "# Vincolo Potenza massima\n",
    "@constraint(nodal_model, max_flow_con[i=1:N_n, j=1:N_n],\n",
    "    -F[i,j] <= B[i,j]*(Θ[i]-Θ[j]) <= +F[i,j]);\n",
    "\n",
    "# VIncolo theta ref\n",
    "@constraint(nodal_model, ang_ref, Θ[1] .== 0);\n",
    "\n",
    "@objective(nodal_model, Max, - T*pᵂ - C*pᴳ + U*pᴰ)\n",
    "\n",
    "#print(nodal_model)\n",
    "optimize!(nodal_model)\n",
    "@show termination_status(nodal_model)\n",
    "@show primal_status(nodal_model)\n",
    "@show dual_status(nodal_model)\n",
    "@show objective_value(nodal_model)\n",
    "@show value.(pᴳ)\n",
    "@show value.(pᵂ)\n",
    "@show value.(pᴰ)\n",
    "@show value.(Θ);"
   ]
  },
  {
   "cell_type": "code",
   "execution_count": 31,
   "id": "8b8261ec",
   "metadata": {},
   "outputs": [
    {
     "name": "stdout",
     "output_type": "stream",
     "text": [
      "[140.00000000000006, 140.00000000000006, 139.99999999999994, 140.0, 139.99999999999997, 139.99999999999991, 139.9999999999995, 139.99999999999952, 139.9999999999999, 139.9999999999999, 139.9999999999999, 139.99999999999994, 139.99999999999991, 139.99999999999991, 140.0, 140.0, 140.00000000000003, 140.00000000000006, 139.99999999999997, 139.99999999999994, 140.00000000000006, 140.00000000000003, 139.99999999999994, 139.99999999999997]"
     ]
    }
   ],
   "source": [
    "## Market Clearing Price\n",
    "λₙ = Vector{Float64}(undef,N_n)\n",
    "#λₙ = zeros(N_n)#Vector{Float64}(undef,N_n)\n",
    "for i = 1:N_n\n",
    "    λₙ[i] = shadow_price(bal_con[i])\n",
    "end\n",
    "#print(λₙ)"
   ]
  },
  {
   "cell_type": "markdown",
   "id": "008849a4",
   "metadata": {},
   "source": [
    "# 2 MCOP ZONAL PRICE"
   ]
  },
  {
   "cell_type": "code",
   "execution_count": 32,
   "id": "cd5419ed",
   "metadata": {},
   "outputs": [],
   "source": [
    "# Data on zones\n",
    "N_a = 2\n",
    "zone_A =[1,2,3,4,5,6,7,8,9,10,11,12,13]\n",
    "zone_B =[14,15,16,17,18,19,20,21,22,23,24]\n",
    "\n",
    "# Lists\n",
    "(d,g,w) = getelmcxt(Demands, Conventional_generators, Wind_farms, N_n) # Ψₙ \n",
    "(Ωₙ,Ω_idx) = getbuscxn(Transmission_lines,N_n); # Ωₙ\n",
    "(d_z, g_z, w_z) = getelmzone(Demands, Conventional_generators, Wind_farms, N_n) # Ψₐ\n",
    "Ωₐ = [[2],[1]] # Ωₐ\n",
    "\n",
    "# Value of ATC (Available Transfer Capacities) between zones\n",
    "ATC = zeros(N_a,N_a)\n",
    "cxn_line = [7,18,21,22]\n",
    "ATC[1,2] = sum(Transmission_lines[4,cxn_line])\n",
    "ATC[2,1] = ATC[1,2]\n",
    "\n",
    "# variable constraints parameters\n",
    "P̅ᴳ = cg_capacity\n",
    "P̲ᴳ = zeros(N_G)\n",
    "P̅ᵂ = wf_day_ahead_forecast\n",
    "P̲ᵂ = zeros(N_W)\n",
    "\n",
    "# cost parameters\n",
    "C = (cg_capacity/2)'\n",
    "T = zeros(4)'\n",
    "U = (d_consumption + ones(N_D) * 60)' \n",
    "\n",
    "# inelastic demands parameters\n",
    "P̅ᴰ = d_consumption # Demends elastic price\n",
    "P̲ᴰ = zeros(N_D);"
   ]
  },
  {
   "cell_type": "code",
   "execution_count": 33,
   "id": "1895933c",
   "metadata": {},
   "outputs": [
    {
     "name": "stdout",
     "output_type": "stream",
     "text": [
      "termination_status(zonal_model) = MathOptInterface.OPTIMAL\n",
      "primal_status(zonal_model) = MathOptInterface.FEASIBLE_POINT\n",
      "dual_status(zonal_model) = MathOptInterface.FEASIBLE_POINT\n",
      "objective_value(zonal_model) = 281501.69\n",
      "value.(pᴳ) = [106.4, 106.4, 245.0, 0.0, 42.0, 108.5, 108.5, 225.64000000000004, 0.0, 210.0, 217.0, 245.0]\n",
      "value.(pᵂ) = [120.54, 115.52, 53.34, 38.16]\n",
      "value.(pᴰ) = [84.0, 0.0, 139.0, 0.0, 0.0, 106.0, 97.0, 132.0, 135.0, 150.0, 205.0, 150.0, 245.0, 0.0, 258.00000000000006, 141.0, 100.0]\n",
      "value.(f_ab) = [0.0 -354.14; 354.13999999999993 0.0]\n"
     ]
    }
   ],
   "source": [
    "using JuMP\n",
    "using GLPK\n",
    "\n",
    "zonal_model = Model(GLPK.Optimizer)\n",
    "\n",
    "@variable(zonal_model, pᴳ[1:N_G])\n",
    "@variable(zonal_model, pᵂ[1:N_W])\n",
    "@variable(zonal_model, pᴰ[1:N_D])\n",
    "@variable(zonal_model, f_ab[1:N_a,1:N_a])\n",
    "\n",
    "@constraint(zonal_model, cg_con[i=1:N_G], P̲ᴳ[i] <= pᴳ[i] <= P̅ᴳ[i])\n",
    "@constraint(zonal_model, wt_con[i=1:N_W], P̲ᵂ[i] <= pᵂ[i] <= P̅ᵂ[i])\n",
    "@constraint(zonal_model, dem_con[i=1:N_D], P̲ᴰ[i] <= pᴰ[i] <= P̅ᴰ[i])\n",
    "\n",
    "@constraint(zonal_model, bal_con[i=1:N_a], \n",
    "    sum(pᴰ[d_z[i]]) + sum(f_ab[i,:]) - sum(pᴳ[g_z[i]]) - sum(pᵂ[w_z[i]]) .== 0)\n",
    "@constraint(zonal_model, trans[i=1:N_a,j=1:N_a], f_ab[i,j] == -f_ab[j,i])\n",
    "\n",
    "@constraint(zonal_model, flow_trans[i=1:N_a,j=1:N_a], - ATC[i,j] <= f_ab[i,j] <= ATC[i,j])\n",
    "\n",
    "@objective(zonal_model, Max, + U*pᴰ - T*pᵂ - C*pᴳ)\n",
    "\n",
    "#print(zonal_model)\n",
    "optimize!(zonal_model)\n",
    "@show termination_status(zonal_model)\n",
    "@show primal_status(zonal_model)\n",
    "@show dual_status(zonal_model)\n",
    "@show objective_value(zonal_model)\n",
    "@show value.(pᴳ)\n",
    "@show value.(pᵂ)\n",
    "@show value.(pᴰ)\n",
    "@show value.(f_ab);"
   ]
  },
  {
   "cell_type": "code",
   "execution_count": null,
   "id": "572c86cf",
   "metadata": {},
   "outputs": [],
   "source": [
    "## Market Clearing Price\n",
    "λₐ = Vector{Float64}(undef,N_a)\n",
    "for i = 1:N_a\n",
    "    λₐ[i] = shadow_price(bal_con[i])\n",
    "end\n",
    "λₐ"
   ]
  },
  {
   "cell_type": "markdown",
   "id": "c70818a0",
   "metadata": {},
   "source": [
    "### 2.2 Please vary the value of ATC, and find at which value of ATC, thesetwo prices become equal (or unequal)."
   ]
  },
  {
   "cell_type": "code",
   "execution_count": 40,
   "id": "062765ad",
   "metadata": {},
   "outputs": [
    {
     "name": "stdout",
     "output_type": "stream",
     "text": [
      "termination_status(zonal_model) = MathOptInterface.OPTIMAL\n",
      "primal_status(zonal_model) = MathOptInterface.FEASIBLE_POINT\n",
      "dual_status(zonal_model) = MathOptInterface.FEASIBLE_POINT\n",
      "objective_value(zonal_model) = 281501.13\n",
      "value.(pᴳ) = [106.4, 106.4, 245.0, 0.0, 42.0, 108.5, 108.5, 225.5, 0.0, 210.0, 217.0, 245.0]\n",
      "value.(pᵂ) = [120.54, 115.52, 53.34, 38.16]\n",
      "value.(pᴰ) = [83.85999999999997, 0.0, 139.0, 0.0, 0.0, 106.0, 97.0, 132.0, 135.0, 150.0, 205.0, 150.0, 245.0, 0.0, 258.0, 141.0, 100.0]\n",
      "value.(f_ab) = [0.0 -354.0; 354.0 0.0]\n"
     ]
    }
   ],
   "source": [
    "ATC[1,2] = 354.0\n",
    "ATC[2,1] = ATC[1,2]\n",
    "\n",
    "using JuMP\n",
    "using GLPK\n",
    "\n",
    "zonal_model = Model(GLPK.Optimizer)\n",
    "\n",
    "@variable(zonal_model, pᴳ[1:N_G])\n",
    "@variable(zonal_model, pᵂ[1:N_W])\n",
    "@variable(zonal_model, pᴰ[1:N_D])\n",
    "@variable(zonal_model, f_ab[1:N_a,1:N_a])\n",
    "\n",
    "@constraint(zonal_model, cg_con[i=1:N_G], P̲ᴳ[i] <= pᴳ[i] <= P̅ᴳ[i])\n",
    "@constraint(zonal_model, wt_con[i=1:N_W], P̲ᵂ[i] <= pᵂ[i] <= P̅ᵂ[i])\n",
    "@constraint(zonal_model, dem_con[i=1:N_D], P̲ᴰ[i] <= pᴰ[i] <= P̅ᴰ[i])\n",
    "\n",
    "@constraint(zonal_model, bal_con[i=1:N_a], \n",
    "    sum(pᴰ[d_z[i]]) + sum(f_ab[i,:]) - sum(pᴳ[g_z[i]]) - sum(pᵂ[w_z[i]]) .== 0)\n",
    "@constraint(zonal_model, trans[i=1:N_a,j=1:N_a], f_ab[i,j] == -f_ab[j,i])\n",
    "\n",
    "@constraint(zonal_model, flow_trans[i=1:N_a,j=1:N_a], - ATC[i,j] <= f_ab[i,j] <= ATC[i,j])\n",
    "\n",
    "@objective(zonal_model, Max, + U*pᴰ - T*pᵂ - C*pᴳ)\n",
    "\n",
    "#print(zonal_model)\n",
    "optimize!(zonal_model)\n",
    "@show termination_status(zonal_model)\n",
    "@show primal_status(zonal_model)\n",
    "@show dual_status(zonal_model)\n",
    "@show objective_value(zonal_model)\n",
    "@show value.(pᴳ)\n",
    "@show value.(pᵂ)\n",
    "@show value.(pᴰ)\n",
    "@show value.(f_ab);"
   ]
  },
  {
   "cell_type": "code",
   "execution_count": 41,
   "id": "7ee2940d",
   "metadata": {},
   "outputs": [
    {
     "data": {
      "text/plain": [
       "2-element Vector{Float64}:\n",
       " 144.0\n",
       " 140.0"
      ]
     },
     "execution_count": 41,
     "metadata": {},
     "output_type": "execute_result"
    }
   ],
   "source": [
    "## Market Clearing Price\n",
    "λₐ = Vector{Float64}(undef,N_a)\n",
    "for i = 1:N_a\n",
    "    λₐ[i] = shadow_price(bal_con[i])\n",
    "end\n",
    "λₐ"
   ]
  }
 ],
 "metadata": {
  "kernelspec": {
   "display_name": "Julia 1.7.0",
   "language": "julia",
   "name": "julia-1.7"
  },
  "language_info": {
   "file_extension": ".jl",
   "mimetype": "application/julia",
   "name": "julia",
   "version": "1.7.0"
  }
 },
 "nbformat": 4,
 "nbformat_minor": 5
}
