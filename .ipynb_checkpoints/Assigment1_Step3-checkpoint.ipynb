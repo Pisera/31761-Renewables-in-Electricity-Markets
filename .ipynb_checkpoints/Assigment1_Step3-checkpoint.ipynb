{
 "cells": [
  {
   "cell_type": "code",
   "execution_count": 24,
   "id": "2b4cb351",
   "metadata": {},
   "outputs": [],
   "source": [
    "# Import Data\n",
    "## Conventional Generators data\n",
    "Conventional_generators = [\n",
    "        1 2 7 13 15 15 16 18 21 22 23 23;\n",
    "        13.32 13.32 20.7 20.93 26.11 10.52 10.52 6.02 5.47 7 10.52 10.89;\n",
    "        1.68 1.68 3.30 4.07 1.89 5.48 5.48 4.98 5.53 8.00 3.45 5.11;\n",
    "        2.32 2.32 4.67 3.93 3.11 3.52 3.52 5.02 4.97 6.00 2.52 2.89;\n",
    "        106.4 106.4 245 413.7 42 108.5 108.5 280 280 210 217 245;\n",
    "        48 48 84 216 42 36 36 60 60 48 72 48;\n",
    "        48 48 84 216 42 36 36 60 60 48 72 48;\n",
    "    ]\n",
    "\n",
    "##  Wind Farms data\n",
    "Wind_farms = [\n",
    "    3 5 16 21;\n",
    "    500 500 300 300;\n",
    "    120.54 115.52 53.34 38.16;\n",
    "]\n",
    "\n",
    "## Demands data\n",
    "Demands = [\n",
    "    1   2   3   4   5   6 7 8 9 10 13 14 15 16 18 19 20;\n",
    "    84  75  139 58  55  106 97  132 135 150 205 150 245 77  258 141 100;\n",
    "    500 500 500 500 500 500 500 500 500 500 500 500 500 500 500 500 500;\n",
    "    ]\n",
    "\n",
    "## Transmission_lines Data\n",
    "Transmission_fir = [\n",
    "    1 1 1 2 2 3 3 4 5 6 7 8 8 9 9 10 10;\n",
    "    2 3 5 4 6 9 24 9 10 10 8 9 10 11 12 11 12;\n",
    "    0.0146 0.2253 0.0907 0.1356 0.205 0.1271 0.084 0.111 0.094 0.0642 0.0652 0.1762 0.1762 0.084 0.084 0.084 0.084;\n",
    "    175 175 350 175 175 175 400 175 350 175 350 175 175 400 400 400 400;\n",
    "]\n",
    "Transmission_sec =[\n",
    "    11 11 12 12 13 14 15 15 15 16 16 17 17 18 19 20 21;\n",
    "    13 14 13 23 23 16 16 21 24 17 19 18 22 21 20 23 22;\n",
    "    0.0488 0.0426 0.0488 0.0985 0.0884 0.0594 0.0172 0.0249 0.0529 0.0263 0.0234 0.0143 0.1069 0.0132 0.0203 0.0112 0.0692;\n",
    "    500 500 500 500 250 250 500 400 500 500 500 500 500 1000 1000 1000 500;\n",
    "]\n",
    "Transmission_lines = hcat(Transmission_fir, Transmission_sec)\n",
    "\n",
    "# Get number of elements connected to the grid from Data\n",
    "\n",
    "N_G = Int64.(size(Conventional_generators,2))       # number of Conventional_generators\n",
    "N_W = Int64.(size(Wind_farms,2))                    # number of Wind_farms\n",
    "N_D = Int64.(size(Demands,2))                               # number of Demands\n",
    "N_l = Int64.(size(Transmission_lines,2) )                   # number of Transmission_lines\n",
    "N_n = Int64.(findmax(Transmission_lines[1:2,:])[1]) # number of nodes\n",
    "N_a = 2                                             # number of zones\n",
    "\n",
    "##\n",
    "\n",
    "# conventional generators\n",
    "cg_node = Int64.(Conventional_generators[1,:])          # Node location of conventional generators [Node]\n",
    "cg_production_cost = Conventional_generators[2,:]       # Production cost of conventional generators [$/MWh]\n",
    "cg_upward_reserve_cost = Conventional_generators[3,:]   # Upward reserve cost of conventional generators [$/MWh]\n",
    "cg_downward_reserve_cost = Conventional_generators[4,:] # Downward reserve cost of conventional generators [$/MWh]\n",
    "cg_capacity = Conventional_generators[5,:]              # [MW]\n",
    "cg_max_upward_reserve_provision_capability = Conventional_generators[6,:]   # [MW]\n",
    "cg_max_downward_reserve_provision_capability = Conventional_generators[7,:] # [MW]\n",
    "\n",
    "## Susceptance of lines\n",
    "Susceptance = 1 ./ Transmission_lines[3,:]\n",
    "\n",
    "Production_cost = Conventional_generators[2,:]\n",
    "\n",
    "P̅ᴳ = Conventional_generators[5,1:end] # capacity of conventional generators\n",
    "P̲ᴳ = zeros(N_G)\n",
    "\n",
    "P̅ᵂ = Wind_farms[3,:]\n",
    "P̲ᵂ = zeros(N_W)\n",
    "\n",
    "P_dem_max = Demands[2,:]\n",
    "P_dem_min = zeros(N_D);\n",
    "\n",
    "##\n",
    "U = (Demands[2,:] + ones(N_D) *45)'\n",
    "\n",
    "C = (Conventional_generators[5,1:end]/2)'\n",
    "\n",
    "T = zeros(4)';"
   ]
  },
  {
   "cell_type": "markdown",
   "id": "8aa5d628",
   "metadata": {},
   "source": [
    "## Clear the market price with inelastic demand\n",
    "\n",
    "\\begin{aligned}\n",
    "\\min_{p^{G}_g,p^{W}_w} \\quad & \\sum_{g=1}^{N_{G}}{C_{g}p^{G}_g} + \\sum_{w=1}^{N_{W}}{T_{w} p^{W}_w}\\\\\n",
    "\\textrm{s.t.} \\quad & 0 \\geq p^{D}_{d} \\geq \\bar{P^{D}_{d}} \\quad \\quad \\forall d\\\\\n",
    "  & 0 \\geq p^{G}_{g} \\geq \\bar{P^{G}_{g}} \\quad \\quad \\forall g \\\\\n",
    "  & 0 \\geq p^{W}_{w} \\geq \\bar{P^{W}_{w}} \\quad \\quad \\forall w \\\\\n",
    "  & P^D - \\sum_{g=1}^{N_{G}}{p^{G}_g} - \\sum_{w=1}^{N_{W}}{p^{W}_w} = 0 \\quad :\\lambda \\\\\n",
    "\\end{aligned}"
   ]
  },
  {
   "cell_type": "code",
   "execution_count": 27,
   "id": "5aa4b9ae",
   "metadata": {},
   "outputs": [
    {
     "name": "stdout",
     "output_type": "stream",
     "text": [
      "termination_status(vector_model) = MathOptInterface.OPTIMAL\n",
      "primal_status(vector_model) = MathOptInterface.FEASIBLE_POINT\n",
      "dual_status(vector_model) = MathOptInterface.FEASIBLE_POINT\n",
      "objective_value(vector_model) = 198284.31\n",
      "value.(pᴳ) = [106.4, 106.4, 245.0, 0.0, 42.0, 108.5, 108.5, 210.6400000000001, 280.0, 210.0, 217.0, 245.0]\n",
      "value.(pᵂ) = [120.54, 115.52, 53.34, 38.16]\n"
     ]
    },
    {
     "data": {
      "text/plain": [
       "140.0"
      ]
     },
     "execution_count": 27,
     "metadata": {},
     "output_type": "execute_result"
    }
   ],
   "source": [
    "using JuMP\n",
    "using GLPK\n",
    "\n",
    "pᴰ= Demands[2,:] # Demends inelastic price\n",
    "\n",
    "vector_model = Model(GLPK.Optimizer)\n",
    "\n",
    "@variable(vector_model, pᴳ[1:N_G])\n",
    "@variable(vector_model, pᵂ[1:N_W])\n",
    "\n",
    "@constraint(vector_model, cg_con[i=1:N_G], P̲ᴳ[i] <= pᴳ[i] <= P̅ᴳ[i])\n",
    "@constraint(vector_model, wt_con[i=1:N_W], P̲ᵂ[i] <= pᵂ[i] <= P̅ᵂ[i])\n",
    "\n",
    "@constraint(vector_model, balance_con, + sum(pᴰ) - sum(pᴳ) - sum(pᵂ) .== 0)\n",
    "\n",
    "@objective(vector_model, Min, T*pᵂ + C*pᴳ)\n",
    "\n",
    "#print(vector_model)\n",
    "optimize!(vector_model)\n",
    "@show termination_status(vector_model)\n",
    "@show primal_status(vector_model)\n",
    "@show dual_status(vector_model)\n",
    "@show objective_value(vector_model)\n",
    "@show value.(pᴳ)\n",
    "@show value.(pᵂ)\n",
    "\n",
    "MCP = abs(shadow_price(balance_con)) # Market Clearing Price\n",
    "\n"
   ]
  },
  {
   "cell_type": "markdown",
   "id": "daa3e42e",
   "metadata": {},
   "source": [
    "## Balancing stage\n",
    "\n",
    "In the balancing stage, generator 7 becomes out of the system (unexpected outage). The actual\n",
    "production of farms 1 and 2 is 10% lower than their day‐ahead forecast, while that of farms 3 and 4 is\n",
    "25% higher than their day‐ahead forecast. All remaining 11 conventional generators (but not\n",
    "demands) are potential balancing service providers. There is no other balancing service provider\n",
    "(except for involuntarily load curtailment). Each conventional generator as the balancing service\n",
    "provider offers the upward balancing service at a price equal to the day‐ahead price plus 10% of her\n",
    "production cost. Similarly, she offers the downward balancing service (if she can depending on her\n",
    "day‐ahead schedule) at a price equal to the day‐ahead price minus 12% of her production cost. Clear\n",
    "the balancing market, and derive the balancing price."
   ]
  },
  {
   "cell_type": "code",
   "execution_count": 26,
   "id": "62a09349",
   "metadata": {},
   "outputs": [
    {
     "data": {
      "text/plain": [
       "-109.231"
      ]
     },
     "execution_count": 26,
     "metadata": {},
     "output_type": "execute_result"
    }
   ],
   "source": [
    "p𝒟𝒜ᴳ = value.(pᴳ) # p\\scrD\\scrA\\^G\n",
    "p𝒟𝒜ᵂ = value.(pᵂ)\n",
    "p𝒟𝒜ᴰ = value.(pᴰ)\n",
    "\n",
    "p𝒜ᴳ = copy(value.(pᴳ))\n",
    "p𝒜ᵂ = copy(value.(pᵂ))\n",
    "p𝒜ᴰ = copy(value.(pᴰ))\n",
    "\n",
    "# generator 7 becomes out of the system (unexpected outage)\n",
    "p𝒜ᴳ[7] = 0\n",
    "\n",
    "# The actual production of wind farms 1 and 2 is 10% lower than their day‐ahead forecast\n",
    "p𝒜ᵂ[1:2] = copy(P̅ᵂ[1:2]) * 0.9 \n",
    "\n",
    "# The actual production of wind farms 3 and 4 is 25% higher than their day‐ahead forecast\n",
    "p𝒜ᵂ[3:4] = copy(P̅ᵂ[3:4]) * 1.25; \n",
    "\n",
    "# System imbalance\n",
    "ΔP = sum(p𝒜ᴳ-p𝒟𝒜ᴳ) + sum(p𝒜ᵂ-p𝒟𝒜ᵂ) - sum(p𝒜ᴰ-p𝒟𝒜ᴰ)\n"
   ]
  },
  {
   "cell_type": "code",
   "execution_count": null,
   "id": "15602a96",
   "metadata": {},
   "outputs": [],
   "source": [
    "# All remaining 11 conventional generators (but not demands) are potential balancing service providers.\n",
    "# There is no other balancing service provider (except for involuntarily load curtailment).\n",
    "P̅ᴳ↗ \n",
    "\n",
    "# Conventional generator as the balancing service provider offers the upward balancing\n",
    "# service at a price equal to the day‐ahead price plus 10% of her production cost\n",
    "Cᴳ↗ = C + Production_cost * 0.1 # C\\nearrow\n",
    "\n",
    "# she offers the downward balancing service (if she can depending on her day‐ahead schedule)\n",
    "# at a price equal to the day‐ahead price minus 12% of her production cost\n",
    "Cᴳ↘ = C - Production_cost * 0.12; #C\\searrow"
   ]
  }
 ],
 "metadata": {
  "kernelspec": {
   "display_name": "Julia 1.7.0",
   "language": "julia",
   "name": "julia-1.7"
  },
  "language_info": {
   "file_extension": ".jl",
   "mimetype": "application/julia",
   "name": "julia",
   "version": "1.7.0"
  }
 },
 "nbformat": 4,
 "nbformat_minor": 5
}
