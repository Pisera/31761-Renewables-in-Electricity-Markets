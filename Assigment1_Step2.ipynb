{
 "cells": [
  {
   "cell_type": "markdown",
   "id": "8122ab7a",
   "metadata": {},
   "source": [
    "# Assigment 1, $\\color{red}{\\text{Step 2}}$ \n",
    "* Accounting for a nodal system, clear the day‐ahead market and report all 24 nodal prices. Are they all identical? Why?\n",
    "* Consider two zones, namely Zone 1 (incl. nodes 1 to 13) and Zone 2 (incl. nodes 14 to 24). Assume that the ATC limit between two zones is symmetric, and its value is equal to the summation of capacity of all transmission lines connecting these two zones. Clear the zonal day‐ahead market and report the two zonal prices. Are they identical? Why? Please vary the value of ATC, and find at which value of ATC, these two prices become equal (or unequal).\n",
    "* Compare the profit of generators and wind farms under nodal, zonal (congested) and no‐network (step1, uniform) schemes."
   ]
  },
  {
   "cell_type": "code",
   "execution_count": 3,
   "id": "2261a050",
   "metadata": {},
   "outputs": [
    {
     "name": "stderr",
     "output_type": "stream",
     "text": [
      "\u001b[32m\u001b[1m   Resolving\u001b[22m\u001b[39m package versions...\n",
      "\u001b[32m\u001b[1m  No Changes\u001b[22m\u001b[39m to `~/.julia/environments/v1.7/Project.toml`\n",
      "\u001b[32m\u001b[1m  No Changes\u001b[22m\u001b[39m to `~/.julia/environments/v1.7/Manifest.toml`\n",
      "\u001b[32m\u001b[1m   Resolving\u001b[22m\u001b[39m package versions...\n",
      "\u001b[32m\u001b[1m  No Changes\u001b[22m\u001b[39m to `~/.julia/environments/v1.7/Project.toml`\n",
      "\u001b[32m\u001b[1m  No Changes\u001b[22m\u001b[39m to `~/.julia/environments/v1.7/Manifest.toml`\n",
      "\u001b[32m\u001b[1m   Resolving\u001b[22m\u001b[39m package versions...\n",
      "\u001b[32m\u001b[1m  No Changes\u001b[22m\u001b[39m to `~/.julia/environments/v1.7/Project.toml`\n",
      "\u001b[32m\u001b[1m  No Changes\u001b[22m\u001b[39m to `~/.julia/environments/v1.7/Manifest.toml`\n"
     ]
    }
   ],
   "source": [
    "using Pkg\n",
    "Pkg.add(\"NBInclude\");\n",
    "Pkg.add(\"JuMP\");\n",
    "Pkg.add(\"GLPK\");"
   ]
  },
  {
   "cell_type": "code",
   "execution_count": null,
   "id": "7d3163cb",
   "metadata": {},
   "outputs": [],
   "source": [
    "using NBInclude\n",
    "@nbinclude(\"Assigment1_Input_data.ipynb\");"
   ]
  },
  {
   "cell_type": "markdown",
   "id": "b4a64e33",
   "metadata": {},
   "source": [
    "# Function"
   ]
  },
  {
   "cell_type": "code",
   "execution_count": null,
   "id": "f0ca007c",
   "metadata": {},
   "outputs": [],
   "source": [
    "function swaprow!(x,i,j)\n",
    "         for k in axes(x,2)\n",
    "           idata = x[i,k]\n",
    "           x[i,k] = x[j,k]\n",
    "           x[j,k] = idata\n",
    "         end\n",
    "       end\n",
    "\n",
    "function getbuscxn(Transmission_lines,N_n)\n",
    "  X = Transmission_lines[1:2,:]\n",
    "    swaprow!(X,1,2)\n",
    "    Ωₙ = Vector{Vector{Int8}}()\n",
    "    Ω_idx =  Vector{Vector{Int8}}()\n",
    "        for i in 1:N_n\n",
    "                x = Transmission_lines[1:2,:]\n",
    "                a = findall(x -> x==i, x)\n",
    "                b = getindex.(a, 2)\n",
    "                push!(Ωₙ,X[a])\n",
    "                push!(Ω_idx,b)\n",
    "        end\n",
    "        return Ωₙ, Ω_idx\n",
    "end\n",
    "\n",
    "function getelmcxt(Demands, Conventional_generators, Wind_farms, N_n)\n",
    "\n",
    "    d = Vector{Vector{Int8}}()\n",
    "    y1 = copy(Demands[1,:])\n",
    "            for i in 1:N_n\n",
    "                a = findall(y1 -> y1==i, y1)\n",
    "                push!(d,a)\n",
    "            end\n",
    "\n",
    "    g = Vector{Vector{Int8}}()\n",
    "    y2 = copy(Conventional_generators[1,:])\n",
    "            for i in 1:N_n\n",
    "                a = findall(y2 -> y2==i, y2)\n",
    "                push!(g,a)\n",
    "            end\n",
    "\n",
    "    w = Vector{Vector{Int8}}()\n",
    "    y = copy(Wind_farms[1,:])\n",
    "            for i in 1:N_n\n",
    "                a = findall(y -> y==i, y)\n",
    "                push!(w,a)\n",
    "            end\n",
    "\n",
    "return d,g,w\n",
    "end"
   ]
  },
  {
   "cell_type": "markdown",
   "id": "10a258af",
   "metadata": {},
   "source": [
    "# 1. MCOP Nodal Price"
   ]
  },
  {
   "cell_type": "code",
   "execution_count": null,
   "id": "981fb561",
   "metadata": {},
   "outputs": [],
   "source": [
    "(d,g,w) = getelmcxt(Demands, Conventional_generators, Wind_farms, N_n)\n",
    "(Ωₙ,Ω_idx) = getbuscxn(Transmission_lines,N_n);\n",
    "\n",
    "## Matrice delle suscettanze\n",
    "B = zeros((N_n, N_n))\n",
    "for i = 1:N_n\n",
    "    (N_c,) = size(Ωₙ[i])\n",
    "    for j in 1:N_c\n",
    "        col = Ωₙ[i][j]\n",
    "        B[i,col] = Susceptance[Ω_idx[i][j]]\n",
    "    end\n",
    "end"
   ]
  },
  {
   "cell_type": "code",
   "execution_count": null,
   "id": "dd6cec8d",
   "metadata": {},
   "outputs": [],
   "source": [
    "using JuMP\n",
    "using GLPK\n",
    "\n",
    "\n",
    "vector_model = Model(GLPK.Optimizer)\n",
    "\n",
    "@variable(vector_model, P_G[1:N_G] >= 0)\n",
    "@variable(vector_model, P_W[1:N_W] >= 0)\n",
    "@variable(vector_model, P_D[1:N_D] >= 0)\n",
    "@variable(vector_model, Θ[1:N_n])\n",
    "\n",
    "@constraint(vector_model, cg_con[i=1:N_G], P_cg_min[i] <= P_G[i] <= P_cg_max[i])\n",
    "@constraint(vector_model, wt_con[i=1:N_W], P_wt_min[i] <= P_W[i] <= P_wt_max[i])\n",
    "@constraint(vector_model, dem_con[i=1:N_D], P_dem_min[i] <= P_D[i] <= P_dem_max[i]);\n",
    "\n",
    "#Vincolo power balance\n",
    "## pf from m to n\n",
    "pf = @expression(vector_model,[i=1:N_n, j=1:N_n], B[i,j]*(Θ[i]-Θ[j]))\n",
    "## vincolo\n",
    "@constraint(vector_model, bal_con[i=1:N_n], \n",
    "    sum(P_D[d[i]]) + sum(pf[i,:]) - sum(P_G[g[i]]) - sum(P_W[w[i]]) .== 0);\n",
    "\n",
    "# Vincolo Potenza massima\n",
    "F = zeros((N_n, N_n))\n",
    "for i in 1:N_l\n",
    "    a = Int8.(Transmission_lines[1,i])\n",
    "    b = Int8.(Transmission_lines[2,i])\n",
    "    c = copy(Transmission_lines[4,i])\n",
    "    F[a,b] = c\n",
    "    F[b,a] = c\n",
    "end\n",
    "\n",
    "@constraint(vector_model, max_flow_con[i=1:N_n, j=1:N_n],\n",
    "    -F[i,j] <= B[i,j]*(Θ[i]-Θ[j]) <= +F[i,j]);\n",
    "\n",
    "# VIncolo theta ref\n",
    "@constraint(vector_model, ang_ref, Θ[1] .== 0);\n",
    "\n",
    "@objective(vector_model, Max, - T*P_W - C*P_G + U*P_D)\n",
    "\n",
    "#print(vector_model)\n",
    "optimize!(vector_model)\n",
    "@show termination_status(vector_model)\n",
    "@show primal_status(vector_model)\n",
    "@show dual_status(vector_model)\n",
    "@show objective_value(vector_model)\n",
    "@show value.(P_G)\n",
    "@show value.(P_W)\n",
    "@show value.(P_D)\n",
    "@show value.(Θ);"
   ]
  },
  {
   "cell_type": "code",
   "execution_count": null,
   "id": "8b8261ec",
   "metadata": {},
   "outputs": [],
   "source": [
    "## Market Clearing Price\n",
    "λₙ = Vector{Float64}(undef,N_n)\n",
    "#λₙ = zeros(N_n)#Vector{Float64}(undef,N_n)\n",
    "for i = 1:N_n\n",
    "    λₙ[i] = shadow_price(bal_con[i])\n",
    "end\n",
    "λₙ"
   ]
  }
 ],
 "metadata": {
  "kernelspec": {
   "display_name": "Julia 1.7.0",
   "language": "julia",
   "name": "julia-1.7"
  },
  "language_info": {
   "file_extension": ".jl",
   "mimetype": "application/julia",
   "name": "julia",
   "version": "1.7.0"
  }
 },
 "nbformat": 4,
 "nbformat_minor": 5
}
