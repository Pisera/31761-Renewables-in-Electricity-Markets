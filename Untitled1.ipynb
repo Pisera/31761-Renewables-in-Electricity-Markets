{
 "cells": [
  {
   "cell_type": "code",
   "execution_count": 9,
   "id": "f3cae97c",
   "metadata": {},
   "outputs": [],
   "source": [
    "struct LocatedAtBus\n",
    "    demands::Vector{Vector{Int8}}\n",
    "    generators::Vector{Vector{Int8}}\n",
    "    wind::Vector{Vector{Int8}}\n",
    "end\n",
    "\n"
   ]
  },
  {
   "cell_type": "code",
   "execution_count": 8,
   "id": "571cb4f5",
   "metadata": {},
   "outputs": [
    {
     "data": {
      "text/plain": [
       "24-element Vector{Vector{Int8}}:\n",
       " [1]\n",
       " [2]\n",
       " [3]\n",
       " [4]\n",
       " [5]\n",
       " [6]\n",
       " [7]\n",
       " [8]\n",
       " [9]\n",
       " [10]\n",
       " []\n",
       " []\n",
       " [11]\n",
       " [12]\n",
       " [13]\n",
       " [14]\n",
       " []\n",
       " [15]\n",
       " [16]\n",
       " [17]\n",
       " []\n",
       " []\n",
       " []\n",
       " []"
      ]
     },
     "execution_count": 8,
     "metadata": {},
     "output_type": "execute_result"
    }
   ],
   "source": [
    "Demands = [\n",
    "    1 2 3 4 5 6 7 8 9 10 13 14 15 16 18 19 20;\n",
    "    84 75 139 58 55 106 97 132 135 150 205 150 245 77 258 141 100;\n",
    "    500 500 500 500 500 500 500 500 500 500 500 500 500 500 500 500 500;\n",
    "    ] \n",
    "N_d = size(Demands,2)\n",
    "N_n = 24 \n",
    "\n",
    "d = Vector{Vector{Int8}}()\n",
    "y = copy(Demands[1,:])\n",
    "        for i in 1:N_n  \n",
    "            a = findall(y -> y==i, y)\n",
    "            push!(d,a)\n",
    "        end\n",
    "    return d"
   ]
  },
  {
   "cell_type": "code",
   "execution_count": 5,
   "id": "c5698bd2",
   "metadata": {
    "scrolled": true
   },
   "outputs": [
    {
     "ename": "LoadError",
     "evalue": "UndefVarError: y not defined",
     "output_type": "error",
     "traceback": [
      "UndefVarError: y not defined",
      "",
      "Stacktrace:",
      " [1] top-level scope",
      "   @ In[5]:1",
      " [2] eval",
      "   @ ./boot.jl:373 [inlined]",
      " [3] include_string(mapexpr::typeof(REPL.softscope), mod::Module, code::String, filename::String)",
      "   @ Base ./loading.jl:1196"
     ]
    }
   ],
   "source": [
    "Ψₙ = LocatedAtBus(d,g,w)"
   ]
  },
  {
   "cell_type": "code",
   "execution_count": null,
   "id": "81ec7e22",
   "metadata": {},
   "outputs": [],
   "source": []
  },
  {
   "cell_type": "code",
   "execution_count": null,
   "id": "cea3fe7f",
   "metadata": {},
   "outputs": [],
   "source": []
  },
  {
   "cell_type": "code",
   "execution_count": null,
   "id": "0bc46f8f",
   "metadata": {},
   "outputs": [],
   "source": []
  }
 ],
 "metadata": {
  "kernelspec": {
   "display_name": "Julia 1.7.0",
   "language": "julia",
   "name": "julia-1.7"
  },
  "language_info": {
   "file_extension": ".jl",
   "mimetype": "application/julia",
   "name": "julia",
   "version": "1.7.0"
  }
 },
 "nbformat": 4,
 "nbformat_minor": 5
}
